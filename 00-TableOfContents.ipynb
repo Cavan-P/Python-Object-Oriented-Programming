{
 "cells": [
  {
   "cell_type": "markdown",
   "id": "08f1f14e",
   "metadata": {},
   "source": [
    "# Object Oriented Programming with Python\n",
    "\n",
    "## Table of Contents\n",
    "\n",
    "#### 01.  [Tools and Python Fundamentals Review](Tools-Python-Review.ipynb)\n",
    "\n",
    "#### 02. [Object Oriented Design](ObjectOrientedDesign.ipynb)\n",
    "\n",
    "#### 03. [Python Data Structures](PythonDataStructures.ipynb)\n",
    "\n",
    "#### 04. [When to Use Ojbect-Oriented Programming](WhenToUseOOP.ipynb)\n",
    "\n",
    "#### 05. [Testing OOP Programs](TestingOOP.ipynb)\n",
    "\n",
    "#### 06. [Testing with Mocking and Patching](TestingMockingPatching.ipynb)\n",
    "\n",
    "#### 07. [Test Data Generation](TestDataGeneration.ipynb)\n",
    "\n",
    "#### 08. [When Objects are Alike](WhenObjectsAreAlike.ipynb)\n",
    "\n",
    "#### 09. [Expecting the Unexpected](ExpectingTheUnexpected.ipynb)\n",
    "\n",
    "#### 10. [Abstract Base Classes and Operator Overloading](ABCOperatorOverloading.ipynb)\n",
    "\n",
    "#### 11. [Inersection of OOP and Functional Programming](IntersectionOfOOPAndFunctionalProgramming.ipynb)\n",
    "\n",
    "#### 12. [Serialization and JSON](SerializationAndJSON.ipynb)\n",
    "\n",
    "#### 13. [The Iterator Pattern](IteratorPattern.ipynb)\n",
    "\n",
    "#### 14. [Common Design Patterns](CommonDesignPatterns.ipynb)"
   ]
  },
  {
   "cell_type": "code",
   "execution_count": null,
   "id": "351eaa42",
   "metadata": {},
   "outputs": [],
   "source": []
  }
 ],
 "metadata": {
  "kernelspec": {
   "display_name": "Python 3 (ipykernel)",
   "language": "python",
   "name": "python3"
  },
  "language_info": {
   "codemirror_mode": {
    "name": "ipython",
    "version": 3
   },
   "file_extension": ".py",
   "mimetype": "text/x-python",
   "name": "python",
   "nbconvert_exporter": "python",
   "pygments_lexer": "ipython3",
   "version": "3.10.8"
  }
 },
 "nbformat": 4,
 "nbformat_minor": 5
}
