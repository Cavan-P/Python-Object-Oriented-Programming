{
 "cells": [
  {
   "cell_type": "markdown",
   "id": "274bb72f",
   "metadata": {},
   "source": [
    "# Mock\n",
    "\n",
    "### Topics\n",
    "\n",
    "- What is Mock?\n",
    "- use Mock to imitate objects in your tests\n",
    "- check usage data to understand how you use your objects\n",
    "- customize your mock objects' return values and side effects\n",
    "- patch() objects through out your codebase\n",
    "- common mock problems and avoiding the same\n",
    "\n",
    "## Imitating objects using Mocks\n",
    "\n",
    "- based on: https://realpython.com/python-mock-library/ and https://docs.python.org/3/library/unittest.mock.html\n",
    "\n",
    "- isolated problems are easier to diagnose and solve\n",
    "- if a test fails, diagnosing/debugging many interrelated components can be very difficult\n",
    "    - e.g., why the engine of a gasoline car not firing\n",
    "- we often want to isolate items and testing environments by providing simiplified imitations (facking real objects)\n",
    "- two reasons to replace actual code/API with imitation or **mock/fake** objects\n",
    "    1. isolate a unit under test - create collaborating classes and function so we can test one unknown component\n",
    "    2. test code that requires an object that is either expensive or risky to use; things like shared databases, filesystems, cloud infrastructures can be be very expensive to setup and tear down for testing\n",
    "    \n",
    "- unittest.mock module provides Mock base class for mocking objects\n",
    "- you can pass mock object as arguments to functions\n",
    "- assign/patch other objects\n",
    "- when substituting an object in your code, the Mock must look like the real object it is replacing\n",
    "    - e.g., if you're mocking `json` library and your program calls `dumps()`, then the mock object must also contain `dumps()` \n",
    "    \n",
    "- Mock must simulate any object that it replaces\n",
    "    - Mock creates attributes/members when you access them!\n",
    "- Mock methods can take whaterver arguments you provide but always return Mock object"
   ]
  },
  {
   "cell_type": "code",
   "execution_count": 9,
   "id": "14634102",
   "metadata": {},
   "outputs": [],
   "source": [
    "from unittest.mock import Mock"
   ]
  },
  {
   "cell_type": "code",
   "execution_count": 155,
   "id": "7ceaab70",
   "metadata": {},
   "outputs": [
    {
     "name": "stdout",
     "output_type": "stream",
     "text": [
      "Help on class Mock in module unittest.mock:\n",
      "\n",
      "class Mock(CallableMixin, NonCallableMock)\n",
      " |  Mock(*args, **kw)\n",
      " |  \n",
      " |  Create a new `Mock` object. `Mock` takes several optional arguments\n",
      " |  that specify the behaviour of the Mock object:\n",
      " |  \n",
      " |  * `spec`: This can be either a list of strings or an existing object (a\n",
      " |    class or instance) that acts as the specification for the mock object. If\n",
      " |    you pass in an object then a list of strings is formed by calling dir on\n",
      " |    the object (excluding unsupported magic attributes and methods). Accessing\n",
      " |    any attribute not in this list will raise an `AttributeError`.\n",
      " |  \n",
      " |    If `spec` is an object (rather than a list of strings) then\n",
      " |    `mock.__class__` returns the class of the spec object. This allows mocks\n",
      " |    to pass `isinstance` tests.\n",
      " |  \n",
      " |  * `spec_set`: A stricter variant of `spec`. If used, attempting to *set*\n",
      " |    or get an attribute on the mock that isn't on the object passed as\n",
      " |    `spec_set` will raise an `AttributeError`.\n",
      " |  \n",
      " |  * `side_effect`: A function to be called whenever the Mock is called. See\n",
      " |    the `side_effect` attribute. Useful for raising exceptions or\n",
      " |    dynamically changing return values. The function is called with the same\n",
      " |    arguments as the mock, and unless it returns `DEFAULT`, the return\n",
      " |    value of this function is used as the return value.\n",
      " |  \n",
      " |    If `side_effect` is an iterable then each call to the mock will return\n",
      " |    the next value from the iterable. If any of the members of the iterable\n",
      " |    are exceptions they will be raised instead of returned.\n",
      " |  \n",
      " |  * `return_value`: The value returned when the mock is called. By default\n",
      " |    this is a new Mock (created on first access). See the\n",
      " |    `return_value` attribute.\n",
      " |  \n",
      " |  * `wraps`: Item for the mock object to wrap. If `wraps` is not None then\n",
      " |    calling the Mock will pass the call through to the wrapped object\n",
      " |    (returning the real result). Attribute access on the mock will return a\n",
      " |    Mock object that wraps the corresponding attribute of the wrapped object\n",
      " |    (so attempting to access an attribute that doesn't exist will raise an\n",
      " |    `AttributeError`).\n",
      " |  \n",
      " |    If the mock has an explicit `return_value` set then calls are not passed\n",
      " |    to the wrapped object and the `return_value` is returned instead.\n",
      " |  \n",
      " |  * `name`: If the mock has a name then it will be used in the repr of the\n",
      " |    mock. This can be useful for debugging. The name is propagated to child\n",
      " |    mocks.\n",
      " |  \n",
      " |  Mocks can also be called with arbitrary keyword arguments. These will be\n",
      " |  used to set attributes on the mock after it is created.\n",
      " |  \n",
      " |  Method resolution order:\n",
      " |      Mock\n",
      " |      CallableMixin\n",
      " |      NonCallableMock\n",
      " |      Base\n",
      " |      builtins.object\n",
      " |  \n",
      " |  Methods inherited from CallableMixin:\n",
      " |  \n",
      " |  __call__(self, /, *args, **kwargs)\n",
      " |      Call self as a function.\n",
      " |  \n",
      " |  __init__(self, spec=None, side_effect=None, return_value=sentinel.DEFAULT, wraps=None, name=None, spec_set=None, parent=None, _spec_state=None, _new_name='', _new_parent=None, **kwargs)\n",
      " |      Initialize self.  See help(type(self)) for accurate signature.\n",
      " |  \n",
      " |  ----------------------------------------------------------------------\n",
      " |  Methods inherited from NonCallableMock:\n",
      " |  \n",
      " |  __delattr__(self, name)\n",
      " |      Implement delattr(self, name).\n",
      " |  \n",
      " |  __dir__(self)\n",
      " |      Filter the output of `dir(mock)` to only useful members.\n",
      " |  \n",
      " |  __getattr__(self, name)\n",
      " |  \n",
      " |  __repr__(self)\n",
      " |      Return repr(self).\n",
      " |  \n",
      " |  __setattr__(self, name, value)\n",
      " |      Implement setattr(self, name, value).\n",
      " |  \n",
      " |  assert_any_call(self, /, *args, **kwargs)\n",
      " |      assert the mock has been called with the specified arguments.\n",
      " |      \n",
      " |      The assert passes if the mock has *ever* been called, unlike\n",
      " |      `assert_called_with` and `assert_called_once_with` that only pass if\n",
      " |      the call is the most recent one.\n",
      " |  \n",
      " |  assert_called(self)\n",
      " |      assert that the mock was called at least once\n",
      " |  \n",
      " |  assert_called_once(self)\n",
      " |      assert that the mock was called only once.\n",
      " |  \n",
      " |  assert_called_once_with(self, /, *args, **kwargs)\n",
      " |      assert that the mock was called exactly once and that that call was\n",
      " |      with the specified arguments.\n",
      " |  \n",
      " |  assert_called_with(self, /, *args, **kwargs)\n",
      " |      assert that the last call was made with the specified arguments.\n",
      " |      \n",
      " |      Raises an AssertionError if the args and keyword args passed in are\n",
      " |      different to the last call to the mock.\n",
      " |  \n",
      " |  assert_has_calls(self, calls, any_order=False)\n",
      " |      assert the mock has been called with the specified calls.\n",
      " |      The `mock_calls` list is checked for the calls.\n",
      " |      \n",
      " |      If `any_order` is False (the default) then the calls must be\n",
      " |      sequential. There can be extra calls before or after the\n",
      " |      specified calls.\n",
      " |      \n",
      " |      If `any_order` is True then the calls can be in any order, but\n",
      " |      they must all appear in `mock_calls`.\n",
      " |  \n",
      " |  assert_not_called(self)\n",
      " |      assert that the mock was never called.\n",
      " |  \n",
      " |  attach_mock(self, mock, attribute)\n",
      " |      Attach a mock as an attribute of this one, replacing its name and\n",
      " |      parent. Calls to the attached mock will be recorded in the\n",
      " |      `method_calls` and `mock_calls` attributes of this one.\n",
      " |  \n",
      " |  configure_mock(self, /, **kwargs)\n",
      " |      Set attributes on the mock through keyword arguments.\n",
      " |      \n",
      " |      Attributes plus return values and side effects can be set on child\n",
      " |      mocks using standard dot notation and unpacking a dictionary in the\n",
      " |      method call:\n",
      " |      \n",
      " |      >>> attrs = {'method.return_value': 3, 'other.side_effect': KeyError}\n",
      " |      >>> mock.configure_mock(**attrs)\n",
      " |  \n",
      " |  mock_add_spec(self, spec, spec_set=False)\n",
      " |      Add a spec to a mock. `spec` can either be an object or a\n",
      " |      list of strings. Only attributes on the `spec` can be fetched as\n",
      " |      attributes from the mock.\n",
      " |      \n",
      " |      If `spec_set` is True then only attributes on the spec can be set.\n",
      " |  \n",
      " |  reset_mock(self, visited=None, *, return_value=False, side_effect=False)\n",
      " |      Restore the mock object to its initial state.\n",
      " |  \n",
      " |  ----------------------------------------------------------------------\n",
      " |  Static methods inherited from NonCallableMock:\n",
      " |  \n",
      " |  __new__(cls, /, *args, **kw)\n",
      " |      Create and return a new object.  See help(type) for accurate signature.\n",
      " |  \n",
      " |  ----------------------------------------------------------------------\n",
      " |  Readonly properties inherited from NonCallableMock:\n",
      " |  \n",
      " |  __class__\n",
      " |  \n",
      " |  ----------------------------------------------------------------------\n",
      " |  Data descriptors inherited from NonCallableMock:\n",
      " |  \n",
      " |  call_args\n",
      " |  \n",
      " |  call_args_list\n",
      " |  \n",
      " |  call_count\n",
      " |  \n",
      " |  called\n",
      " |  \n",
      " |  mock_calls\n",
      " |  \n",
      " |  return_value\n",
      " |  \n",
      " |  side_effect\n",
      " |  \n",
      " |  ----------------------------------------------------------------------\n",
      " |  Data descriptors inherited from Base:\n",
      " |  \n",
      " |  __dict__\n",
      " |      dictionary for instance variables (if defined)\n",
      " |  \n",
      " |  __weakref__\n",
      " |      list of weak references to the object (if defined)\n",
      "\n"
     ]
    }
   ],
   "source": [
    "help(Mock)"
   ]
  },
  {
   "cell_type": "code",
   "execution_count": 10,
   "id": "9b3af993",
   "metadata": {},
   "outputs": [],
   "source": [
    "mock = Mock()"
   ]
  },
  {
   "cell_type": "code",
   "execution_count": 11,
   "id": "3365104e",
   "metadata": {},
   "outputs": [
    {
     "data": {
      "text/plain": [
       "<Mock id='140202251363488'>"
      ]
     },
     "execution_count": 11,
     "metadata": {},
     "output_type": "execute_result"
    }
   ],
   "source": [
    "mock"
   ]
  },
  {
   "cell_type": "code",
   "execution_count": 12,
   "id": "a6baf367",
   "metadata": {},
   "outputs": [
    {
     "data": {
      "text/plain": [
       "<Mock name='mock.some_attribute' id='140202251361472'>"
      ]
     },
     "execution_count": 12,
     "metadata": {},
     "output_type": "execute_result"
    }
   ],
   "source": [
    "mock.some_attribute"
   ]
  },
  {
   "cell_type": "code",
   "execution_count": 13,
   "id": "1810aea5",
   "metadata": {},
   "outputs": [
    {
     "data": {
      "text/plain": [
       "<Mock name='mock.do_something()' id='140202251365264'>"
      ]
     },
     "execution_count": 13,
     "metadata": {},
     "output_type": "execute_result"
    }
   ],
   "source": [
    "mock.do_something()\n",
    "# mock methods return Mock object"
   ]
  },
  {
   "cell_type": "code",
   "execution_count": 143,
   "id": "ace8fdbe",
   "metadata": {},
   "outputs": [],
   "source": [
    "# let's use this Hello class to use some mocking/patching concepts\n",
    "class Hello(object):\n",
    "    def __init__(self, msg=\"Hello there\") -> None:\n",
    "        self.__msg = msg\n",
    "        \n",
    "    def greet(self) -> str:\n",
    "        return self.__msg"
   ]
  },
  {
   "cell_type": "code",
   "execution_count": 144,
   "id": "53cd83b7",
   "metadata": {},
   "outputs": [],
   "source": [
    "hi = Hello()"
   ]
  },
  {
   "cell_type": "code",
   "execution_count": 145,
   "id": "1e568717",
   "metadata": {},
   "outputs": [
    {
     "name": "stdout",
     "output_type": "stream",
     "text": [
      "Hello there\n"
     ]
    }
   ],
   "source": [
    "print(hi.greet())"
   ]
  },
  {
   "cell_type": "code",
   "execution_count": 146,
   "id": "b3f3f2c9",
   "metadata": {},
   "outputs": [],
   "source": [
    "mock_hi = Mock()"
   ]
  },
  {
   "cell_type": "code",
   "execution_count": 147,
   "id": "020c4b49",
   "metadata": {},
   "outputs": [],
   "source": [
    "mock_hi.greet.return_value = 'Hello there'"
   ]
  },
  {
   "cell_type": "code",
   "execution_count": 148,
   "id": "9d144ec0",
   "metadata": {},
   "outputs": [
    {
     "data": {
      "text/plain": [
       "'Hello there'"
      ]
     },
     "execution_count": 148,
     "metadata": {},
     "output_type": "execute_result"
    }
   ],
   "source": [
    "mock_hi.greet()"
   ]
  },
  {
   "cell_type": "code",
   "execution_count": 150,
   "id": "148b7c74",
   "metadata": {},
   "outputs": [
    {
     "data": {
      "text/plain": [
       "unittest.mock.Mock"
      ]
     },
     "execution_count": 150,
     "metadata": {},
     "output_type": "execute_result"
    }
   ],
   "source": [
    "type(mock_hi)"
   ]
  },
  {
   "cell_type": "code",
   "execution_count": 151,
   "id": "a4ac702a",
   "metadata": {},
   "outputs": [
    {
     "data": {
      "text/plain": [
       "unittest.mock.Mock"
      ]
     },
     "execution_count": 151,
     "metadata": {},
     "output_type": "execute_result"
    }
   ],
   "source": [
    "type(mock_hi.greet)"
   ]
  },
  {
   "cell_type": "code",
   "execution_count": 152,
   "id": "1d78158d",
   "metadata": {},
   "outputs": [],
   "source": [
    "assert mock_hi.greet() == 'Hello there'"
   ]
  },
  {
   "cell_type": "code",
   "execution_count": 153,
   "id": "fd4e6e01",
   "metadata": {},
   "outputs": [],
   "source": [
    "mock_hi.greet.assert_called()"
   ]
  },
  {
   "cell_type": "code",
   "execution_count": 154,
   "id": "516832ed",
   "metadata": {},
   "outputs": [
    {
     "data": {
      "text/plain": [
       "2"
      ]
     },
     "execution_count": 154,
     "metadata": {},
     "output_type": "execute_result"
    }
   ],
   "source": [
    "mock_hi.greet.call_count"
   ]
  },
  {
   "cell_type": "code",
   "execution_count": 137,
   "id": "e4d20f7d",
   "metadata": {},
   "outputs": [],
   "source": [
    "# let's see Python std json library\n",
    "import json"
   ]
  },
  {
   "cell_type": "code",
   "execution_count": 138,
   "id": "abfdd599",
   "metadata": {},
   "outputs": [
    {
     "name": "stdout",
     "output_type": "stream",
     "text": [
      "Help on package json:\n",
      "\n",
      "NAME\n",
      "    json\n",
      "\n",
      "MODULE REFERENCE\n",
      "    https://docs.python.org/3.10/library/json.html\n",
      "    \n",
      "    The following documentation is automatically generated from the Python\n",
      "    source files.  It may be incomplete, incorrect or include features that\n",
      "    are considered implementation detail and may vary between Python\n",
      "    implementations.  When in doubt, consult the module reference at the\n",
      "    location listed above.\n",
      "\n",
      "DESCRIPTION\n",
      "    JSON (JavaScript Object Notation) <https://json.org> is a subset of\n",
      "    JavaScript syntax (ECMA-262 3rd edition) used as a lightweight data\n",
      "    interchange format.\n",
      "    \n",
      "    :mod:`json` exposes an API familiar to users of the standard library\n",
      "    :mod:`marshal` and :mod:`pickle` modules.  It is derived from a\n",
      "    version of the externally maintained simplejson library.\n",
      "    \n",
      "    Encoding basic Python object hierarchies::\n",
      "    \n",
      "        >>> import json\n",
      "        >>> json.dumps(['foo', {'bar': ('baz', None, 1.0, 2)}])\n",
      "        '[\"foo\", {\"bar\": [\"baz\", null, 1.0, 2]}]'\n",
      "        >>> print(json.dumps(\"\\\"foo\\bar\"))\n",
      "        \"\\\"foo\\bar\"\n",
      "        >>> print(json.dumps('\\u1234'))\n",
      "        \"\\u1234\"\n",
      "        >>> print(json.dumps('\\\\'))\n",
      "        \"\\\\\"\n",
      "        >>> print(json.dumps({\"c\": 0, \"b\": 0, \"a\": 0}, sort_keys=True))\n",
      "        {\"a\": 0, \"b\": 0, \"c\": 0}\n",
      "        >>> from io import StringIO\n",
      "        >>> io = StringIO()\n",
      "        >>> json.dump(['streaming API'], io)\n",
      "        >>> io.getvalue()\n",
      "        '[\"streaming API\"]'\n",
      "    \n",
      "    Compact encoding::\n",
      "    \n",
      "        >>> import json\n",
      "        >>> mydict = {'4': 5, '6': 7}\n",
      "        >>> json.dumps([1,2,3,mydict], separators=(',', ':'))\n",
      "        '[1,2,3,{\"4\":5,\"6\":7}]'\n",
      "    \n",
      "    Pretty printing::\n",
      "    \n",
      "        >>> import json\n",
      "        >>> print(json.dumps({'4': 5, '6': 7}, sort_keys=True, indent=4))\n",
      "        {\n",
      "            \"4\": 5,\n",
      "            \"6\": 7\n",
      "        }\n",
      "    \n",
      "    Decoding JSON::\n",
      "    \n",
      "        >>> import json\n",
      "        >>> obj = ['foo', {'bar': ['baz', None, 1.0, 2]}]\n",
      "        >>> json.loads('[\"foo\", {\"bar\":[\"baz\", null, 1.0, 2]}]') == obj\n",
      "        True\n",
      "        >>> json.loads('\"\\\\\"foo\\\\bar\"') == '\"foo\\x08ar'\n",
      "        True\n",
      "        >>> from io import StringIO\n",
      "        >>> io = StringIO('[\"streaming API\"]')\n",
      "        >>> json.load(io)[0] == 'streaming API'\n",
      "        True\n",
      "    \n",
      "    Specializing JSON object decoding::\n",
      "    \n",
      "        >>> import json\n",
      "        >>> def as_complex(dct):\n",
      "        ...     if '__complex__' in dct:\n",
      "        ...         return complex(dct['real'], dct['imag'])\n",
      "        ...     return dct\n",
      "        ...\n",
      "        >>> json.loads('{\"__complex__\": true, \"real\": 1, \"imag\": 2}',\n",
      "        ...     object_hook=as_complex)\n",
      "        (1+2j)\n",
      "        >>> from decimal import Decimal\n",
      "        >>> json.loads('1.1', parse_float=Decimal) == Decimal('1.1')\n",
      "        True\n",
      "    \n",
      "    Specializing JSON object encoding::\n",
      "    \n",
      "        >>> import json\n",
      "        >>> def encode_complex(obj):\n",
      "        ...     if isinstance(obj, complex):\n",
      "        ...         return [obj.real, obj.imag]\n",
      "        ...     raise TypeError(f'Object of type {obj.__class__.__name__} '\n",
      "        ...                     f'is not JSON serializable')\n",
      "        ...\n",
      "        >>> json.dumps(2 + 1j, default=encode_complex)\n",
      "        '[2.0, 1.0]'\n",
      "        >>> json.JSONEncoder(default=encode_complex).encode(2 + 1j)\n",
      "        '[2.0, 1.0]'\n",
      "        >>> ''.join(json.JSONEncoder(default=encode_complex).iterencode(2 + 1j))\n",
      "        '[2.0, 1.0]'\n",
      "    \n",
      "    \n",
      "    Using json.tool from the shell to validate and pretty-print::\n",
      "    \n",
      "        $ echo '{\"json\":\"obj\"}' | python -m json.tool\n",
      "        {\n",
      "            \"json\": \"obj\"\n",
      "        }\n",
      "        $ echo '{ 1.2:3.4}' | python -m json.tool\n",
      "        Expecting property name enclosed in double quotes: line 1 column 3 (char 2)\n",
      "\n",
      "PACKAGE CONTENTS\n",
      "    decoder\n",
      "    encoder\n",
      "    scanner\n",
      "    tool\n",
      "\n",
      "CLASSES\n",
      "    builtins.ValueError(builtins.Exception)\n",
      "        json.decoder.JSONDecodeError\n",
      "    builtins.object\n",
      "        json.decoder.JSONDecoder\n",
      "        json.encoder.JSONEncoder\n",
      "    \n",
      "    class JSONDecodeError(builtins.ValueError)\n",
      "     |  JSONDecodeError(msg, doc, pos)\n",
      "     |  \n",
      "     |  Subclass of ValueError with the following additional properties:\n",
      "     |  \n",
      "     |  msg: The unformatted error message\n",
      "     |  doc: The JSON document being parsed\n",
      "     |  pos: The start index of doc where parsing failed\n",
      "     |  lineno: The line corresponding to pos\n",
      "     |  colno: The column corresponding to pos\n",
      "     |  \n",
      "     |  Method resolution order:\n",
      "     |      JSONDecodeError\n",
      "     |      builtins.ValueError\n",
      "     |      builtins.Exception\n",
      "     |      builtins.BaseException\n",
      "     |      builtins.object\n",
      "     |  \n",
      "     |  Methods defined here:\n",
      "     |  \n",
      "     |  __init__(self, msg, doc, pos)\n",
      "     |      Initialize self.  See help(type(self)) for accurate signature.\n",
      "     |  \n",
      "     |  __reduce__(self)\n",
      "     |      Helper for pickle.\n",
      "     |  \n",
      "     |  ----------------------------------------------------------------------\n",
      "     |  Data descriptors defined here:\n",
      "     |  \n",
      "     |  __weakref__\n",
      "     |      list of weak references to the object (if defined)\n",
      "     |  \n",
      "     |  ----------------------------------------------------------------------\n",
      "     |  Static methods inherited from builtins.ValueError:\n",
      "     |  \n",
      "     |  __new__(*args, **kwargs) from builtins.type\n",
      "     |      Create and return a new object.  See help(type) for accurate signature.\n",
      "     |  \n",
      "     |  ----------------------------------------------------------------------\n",
      "     |  Methods inherited from builtins.BaseException:\n",
      "     |  \n",
      "     |  __delattr__(self, name, /)\n",
      "     |      Implement delattr(self, name).\n",
      "     |  \n",
      "     |  __getattribute__(self, name, /)\n",
      "     |      Return getattr(self, name).\n",
      "     |  \n",
      "     |  __repr__(self, /)\n",
      "     |      Return repr(self).\n",
      "     |  \n",
      "     |  __setattr__(self, name, value, /)\n",
      "     |      Implement setattr(self, name, value).\n",
      "     |  \n",
      "     |  __setstate__(...)\n",
      "     |  \n",
      "     |  __str__(self, /)\n",
      "     |      Return str(self).\n",
      "     |  \n",
      "     |  with_traceback(...)\n",
      "     |      Exception.with_traceback(tb) --\n",
      "     |      set self.__traceback__ to tb and return self.\n",
      "     |  \n",
      "     |  ----------------------------------------------------------------------\n",
      "     |  Data descriptors inherited from builtins.BaseException:\n",
      "     |  \n",
      "     |  __cause__\n",
      "     |      exception cause\n",
      "     |  \n",
      "     |  __context__\n",
      "     |      exception context\n",
      "     |  \n",
      "     |  __dict__\n",
      "     |  \n",
      "     |  __suppress_context__\n",
      "     |  \n",
      "     |  __traceback__\n",
      "     |  \n",
      "     |  args\n",
      "    \n",
      "    class JSONDecoder(builtins.object)\n",
      "     |  JSONDecoder(*, object_hook=None, parse_float=None, parse_int=None, parse_constant=None, strict=True, object_pairs_hook=None)\n",
      "     |  \n",
      "     |  Simple JSON <https://json.org> decoder\n",
      "     |  \n",
      "     |  Performs the following translations in decoding by default:\n",
      "     |  \n",
      "     |  +---------------+-------------------+\n",
      "     |  | JSON          | Python            |\n",
      "     |  +===============+===================+\n",
      "     |  | object        | dict              |\n",
      "     |  +---------------+-------------------+\n",
      "     |  | array         | list              |\n",
      "     |  +---------------+-------------------+\n",
      "     |  | string        | str               |\n",
      "     |  +---------------+-------------------+\n",
      "     |  | number (int)  | int               |\n",
      "     |  +---------------+-------------------+\n",
      "     |  | number (real) | float             |\n",
      "     |  +---------------+-------------------+\n",
      "     |  | true          | True              |\n",
      "     |  +---------------+-------------------+\n",
      "     |  | false         | False             |\n",
      "     |  +---------------+-------------------+\n",
      "     |  | null          | None              |\n",
      "     |  +---------------+-------------------+\n",
      "     |  \n",
      "     |  It also understands ``NaN``, ``Infinity``, and ``-Infinity`` as\n",
      "     |  their corresponding ``float`` values, which is outside the JSON spec.\n",
      "     |  \n",
      "     |  Methods defined here:\n",
      "     |  \n",
      "     |  __init__(self, *, object_hook=None, parse_float=None, parse_int=None, parse_constant=None, strict=True, object_pairs_hook=None)\n",
      "     |      ``object_hook``, if specified, will be called with the result\n",
      "     |      of every JSON object decoded and its return value will be used in\n",
      "     |      place of the given ``dict``.  This can be used to provide custom\n",
      "     |      deserializations (e.g. to support JSON-RPC class hinting).\n",
      "     |      \n",
      "     |      ``object_pairs_hook``, if specified will be called with the result of\n",
      "     |      every JSON object decoded with an ordered list of pairs.  The return\n",
      "     |      value of ``object_pairs_hook`` will be used instead of the ``dict``.\n",
      "     |      This feature can be used to implement custom decoders.\n",
      "     |      If ``object_hook`` is also defined, the ``object_pairs_hook`` takes\n",
      "     |      priority.\n",
      "     |      \n",
      "     |      ``parse_float``, if specified, will be called with the string\n",
      "     |      of every JSON float to be decoded. By default this is equivalent to\n",
      "     |      float(num_str). This can be used to use another datatype or parser\n",
      "     |      for JSON floats (e.g. decimal.Decimal).\n",
      "     |      \n",
      "     |      ``parse_int``, if specified, will be called with the string\n",
      "     |      of every JSON int to be decoded. By default this is equivalent to\n",
      "     |      int(num_str). This can be used to use another datatype or parser\n",
      "     |      for JSON integers (e.g. float).\n",
      "     |      \n",
      "     |      ``parse_constant``, if specified, will be called with one of the\n",
      "     |      following strings: -Infinity, Infinity, NaN.\n",
      "     |      This can be used to raise an exception if invalid JSON numbers\n",
      "     |      are encountered.\n",
      "     |      \n",
      "     |      If ``strict`` is false (true is the default), then control\n",
      "     |      characters will be allowed inside strings.  Control characters in\n",
      "     |      this context are those with character codes in the 0-31 range,\n",
      "     |      including ``'\\t'`` (tab), ``'\\n'``, ``'\\r'`` and ``'\\0'``.\n",
      "     |  \n",
      "     |  decode(self, s, _w=<built-in method match of re.Pattern object at 0x7f835b2735e0>)\n",
      "     |      Return the Python representation of ``s`` (a ``str`` instance\n",
      "     |      containing a JSON document).\n",
      "     |  \n",
      "     |  raw_decode(self, s, idx=0)\n",
      "     |      Decode a JSON document from ``s`` (a ``str`` beginning with\n",
      "     |      a JSON document) and return a 2-tuple of the Python\n",
      "     |      representation and the index in ``s`` where the document ended.\n",
      "     |      \n",
      "     |      This can be used to decode a JSON document from a string that may\n",
      "     |      have extraneous data at the end.\n",
      "     |  \n",
      "     |  ----------------------------------------------------------------------\n",
      "     |  Data descriptors defined here:\n",
      "     |  \n",
      "     |  __dict__\n",
      "     |      dictionary for instance variables (if defined)\n",
      "     |  \n",
      "     |  __weakref__\n",
      "     |      list of weak references to the object (if defined)\n",
      "    \n",
      "    class JSONEncoder(builtins.object)\n",
      "     |  JSONEncoder(*, skipkeys=False, ensure_ascii=True, check_circular=True, allow_nan=True, sort_keys=False, indent=None, separators=None, default=None)\n",
      "     |  \n",
      "     |  Extensible JSON <https://json.org> encoder for Python data structures.\n",
      "     |  \n",
      "     |  Supports the following objects and types by default:\n",
      "     |  \n",
      "     |  +-------------------+---------------+\n",
      "     |  | Python            | JSON          |\n",
      "     |  +===================+===============+\n",
      "     |  | dict              | object        |\n",
      "     |  +-------------------+---------------+\n",
      "     |  | list, tuple       | array         |\n",
      "     |  +-------------------+---------------+\n",
      "     |  | str               | string        |\n",
      "     |  +-------------------+---------------+\n",
      "     |  | int, float        | number        |\n",
      "     |  +-------------------+---------------+\n",
      "     |  | True              | true          |\n",
      "     |  +-------------------+---------------+\n",
      "     |  | False             | false         |\n",
      "     |  +-------------------+---------------+\n",
      "     |  | None              | null          |\n",
      "     |  +-------------------+---------------+\n",
      "     |  \n",
      "     |  To extend this to recognize other objects, subclass and implement a\n",
      "     |  ``.default()`` method with another method that returns a serializable\n",
      "     |  object for ``o`` if possible, otherwise it should call the superclass\n",
      "     |  implementation (to raise ``TypeError``).\n",
      "     |  \n",
      "     |  Methods defined here:\n",
      "     |  \n",
      "     |  __init__(self, *, skipkeys=False, ensure_ascii=True, check_circular=True, allow_nan=True, sort_keys=False, indent=None, separators=None, default=None)\n",
      "     |      Constructor for JSONEncoder, with sensible defaults.\n",
      "     |      \n",
      "     |      If skipkeys is false, then it is a TypeError to attempt\n",
      "     |      encoding of keys that are not str, int, float or None.  If\n",
      "     |      skipkeys is True, such items are simply skipped.\n",
      "     |      \n",
      "     |      If ensure_ascii is true, the output is guaranteed to be str\n",
      "     |      objects with all incoming non-ASCII characters escaped.  If\n",
      "     |      ensure_ascii is false, the output can contain non-ASCII characters.\n",
      "     |      \n",
      "     |      If check_circular is true, then lists, dicts, and custom encoded\n",
      "     |      objects will be checked for circular references during encoding to\n",
      "     |      prevent an infinite recursion (which would cause an RecursionError).\n",
      "     |      Otherwise, no such check takes place.\n",
      "     |      \n",
      "     |      If allow_nan is true, then NaN, Infinity, and -Infinity will be\n",
      "     |      encoded as such.  This behavior is not JSON specification compliant,\n",
      "     |      but is consistent with most JavaScript based encoders and decoders.\n",
      "     |      Otherwise, it will be a ValueError to encode such floats.\n",
      "     |      \n",
      "     |      If sort_keys is true, then the output of dictionaries will be\n",
      "     |      sorted by key; this is useful for regression tests to ensure\n",
      "     |      that JSON serializations can be compared on a day-to-day basis.\n",
      "     |      \n",
      "     |      If indent is a non-negative integer, then JSON array\n",
      "     |      elements and object members will be pretty-printed with that\n",
      "     |      indent level.  An indent level of 0 will only insert newlines.\n",
      "     |      None is the most compact representation.\n",
      "     |      \n",
      "     |      If specified, separators should be an (item_separator, key_separator)\n",
      "     |      tuple.  The default is (', ', ': ') if *indent* is ``None`` and\n",
      "     |      (',', ': ') otherwise.  To get the most compact JSON representation,\n",
      "     |      you should specify (',', ':') to eliminate whitespace.\n",
      "     |      \n",
      "     |      If specified, default is a function that gets called for objects\n",
      "     |      that can't otherwise be serialized.  It should return a JSON encodable\n",
      "     |      version of the object or raise a ``TypeError``.\n",
      "     |  \n",
      "     |  default(self, o)\n",
      "     |      Implement this method in a subclass such that it returns\n",
      "     |      a serializable object for ``o``, or calls the base implementation\n",
      "     |      (to raise a ``TypeError``).\n",
      "     |      \n",
      "     |      For example, to support arbitrary iterators, you could\n",
      "     |      implement default like this::\n",
      "     |      \n",
      "     |          def default(self, o):\n",
      "     |              try:\n",
      "     |                  iterable = iter(o)\n",
      "     |              except TypeError:\n",
      "     |                  pass\n",
      "     |              else:\n",
      "     |                  return list(iterable)\n",
      "     |              # Let the base class default method raise the TypeError\n",
      "     |              return JSONEncoder.default(self, o)\n",
      "     |  \n",
      "     |  encode(self, o)\n",
      "     |      Return a JSON string representation of a Python data structure.\n",
      "     |      \n",
      "     |      >>> from json.encoder import JSONEncoder\n",
      "     |      >>> JSONEncoder().encode({\"foo\": [\"bar\", \"baz\"]})\n",
      "     |      '{\"foo\": [\"bar\", \"baz\"]}'\n",
      "     |  \n",
      "     |  iterencode(self, o, _one_shot=False)\n",
      "     |      Encode the given object and yield each string\n",
      "     |      representation as available.\n",
      "     |      \n",
      "     |      For example::\n",
      "     |      \n",
      "     |          for chunk in JSONEncoder().iterencode(bigobject):\n",
      "     |              mysocket.write(chunk)\n",
      "     |  \n",
      "     |  ----------------------------------------------------------------------\n",
      "     |  Data descriptors defined here:\n",
      "     |  \n",
      "     |  __dict__\n",
      "     |      dictionary for instance variables (if defined)\n",
      "     |  \n",
      "     |  __weakref__\n",
      "     |      list of weak references to the object (if defined)\n",
      "     |  \n",
      "     |  ----------------------------------------------------------------------\n",
      "     |  Data and other attributes defined here:\n",
      "     |  \n",
      "     |  item_separator = ', '\n",
      "     |  \n",
      "     |  key_separator = ': '\n",
      "\n",
      "FUNCTIONS\n",
      "    dump(obj, fp, *, skipkeys=False, ensure_ascii=True, check_circular=True, allow_nan=True, cls=None, indent=None, separators=None, default=None, sort_keys=False, **kw)\n",
      "        Serialize ``obj`` as a JSON formatted stream to ``fp`` (a\n",
      "        ``.write()``-supporting file-like object).\n",
      "        \n",
      "        If ``skipkeys`` is true then ``dict`` keys that are not basic types\n",
      "        (``str``, ``int``, ``float``, ``bool``, ``None``) will be skipped\n",
      "        instead of raising a ``TypeError``.\n",
      "        \n",
      "        If ``ensure_ascii`` is false, then the strings written to ``fp`` can\n",
      "        contain non-ASCII characters if they appear in strings contained in\n",
      "        ``obj``. Otherwise, all such characters are escaped in JSON strings.\n",
      "        \n",
      "        If ``check_circular`` is false, then the circular reference check\n",
      "        for container types will be skipped and a circular reference will\n",
      "        result in an ``RecursionError`` (or worse).\n",
      "        \n",
      "        If ``allow_nan`` is false, then it will be a ``ValueError`` to\n",
      "        serialize out of range ``float`` values (``nan``, ``inf``, ``-inf``)\n",
      "        in strict compliance of the JSON specification, instead of using the\n",
      "        JavaScript equivalents (``NaN``, ``Infinity``, ``-Infinity``).\n",
      "        \n",
      "        If ``indent`` is a non-negative integer, then JSON array elements and\n",
      "        object members will be pretty-printed with that indent level. An indent\n",
      "        level of 0 will only insert newlines. ``None`` is the most compact\n",
      "        representation.\n",
      "        \n",
      "        If specified, ``separators`` should be an ``(item_separator, key_separator)``\n",
      "        tuple.  The default is ``(', ', ': ')`` if *indent* is ``None`` and\n",
      "        ``(',', ': ')`` otherwise.  To get the most compact JSON representation,\n",
      "        you should specify ``(',', ':')`` to eliminate whitespace.\n",
      "        \n",
      "        ``default(obj)`` is a function that should return a serializable version\n",
      "        of obj or raise TypeError. The default simply raises TypeError.\n",
      "        \n",
      "        If *sort_keys* is true (default: ``False``), then the output of\n",
      "        dictionaries will be sorted by key.\n",
      "        \n",
      "        To use a custom ``JSONEncoder`` subclass (e.g. one that overrides the\n",
      "        ``.default()`` method to serialize additional types), specify it with\n",
      "        the ``cls`` kwarg; otherwise ``JSONEncoder`` is used.\n",
      "    \n",
      "    dumps(obj, *, skipkeys=False, ensure_ascii=True, check_circular=True, allow_nan=True, cls=None, indent=None, separators=None, default=None, sort_keys=False, **kw)\n",
      "        Serialize ``obj`` to a JSON formatted ``str``.\n",
      "        \n",
      "        If ``skipkeys`` is true then ``dict`` keys that are not basic types\n",
      "        (``str``, ``int``, ``float``, ``bool``, ``None``) will be skipped\n",
      "        instead of raising a ``TypeError``.\n",
      "        \n",
      "        If ``ensure_ascii`` is false, then the return value can contain non-ASCII\n",
      "        characters if they appear in strings contained in ``obj``. Otherwise, all\n",
      "        such characters are escaped in JSON strings.\n",
      "        \n",
      "        If ``check_circular`` is false, then the circular reference check\n",
      "        for container types will be skipped and a circular reference will\n",
      "        result in an ``RecursionError`` (or worse).\n",
      "        \n",
      "        If ``allow_nan`` is false, then it will be a ``ValueError`` to\n",
      "        serialize out of range ``float`` values (``nan``, ``inf``, ``-inf``) in\n",
      "        strict compliance of the JSON specification, instead of using the\n",
      "        JavaScript equivalents (``NaN``, ``Infinity``, ``-Infinity``).\n",
      "        \n",
      "        If ``indent`` is a non-negative integer, then JSON array elements and\n",
      "        object members will be pretty-printed with that indent level. An indent\n",
      "        level of 0 will only insert newlines. ``None`` is the most compact\n",
      "        representation.\n",
      "        \n",
      "        If specified, ``separators`` should be an ``(item_separator, key_separator)``\n",
      "        tuple.  The default is ``(', ', ': ')`` if *indent* is ``None`` and\n",
      "        ``(',', ': ')`` otherwise.  To get the most compact JSON representation,\n",
      "        you should specify ``(',', ':')`` to eliminate whitespace.\n",
      "        \n",
      "        ``default(obj)`` is a function that should return a serializable version\n",
      "        of obj or raise TypeError. The default simply raises TypeError.\n",
      "        \n",
      "        If *sort_keys* is true (default: ``False``), then the output of\n",
      "        dictionaries will be sorted by key.\n",
      "        \n",
      "        To use a custom ``JSONEncoder`` subclass (e.g. one that overrides the\n",
      "        ``.default()`` method to serialize additional types), specify it with\n",
      "        the ``cls`` kwarg; otherwise ``JSONEncoder`` is used.\n",
      "    \n",
      "    load(fp, *, cls=None, object_hook=None, parse_float=None, parse_int=None, parse_constant=None, object_pairs_hook=None, **kw)\n",
      "        Deserialize ``fp`` (a ``.read()``-supporting file-like object containing\n",
      "        a JSON document) to a Python object.\n",
      "        \n",
      "        ``object_hook`` is an optional function that will be called with the\n",
      "        result of any object literal decode (a ``dict``). The return value of\n",
      "        ``object_hook`` will be used instead of the ``dict``. This feature\n",
      "        can be used to implement custom decoders (e.g. JSON-RPC class hinting).\n",
      "        \n",
      "        ``object_pairs_hook`` is an optional function that will be called with the\n",
      "        result of any object literal decoded with an ordered list of pairs.  The\n",
      "        return value of ``object_pairs_hook`` will be used instead of the ``dict``.\n",
      "        This feature can be used to implement custom decoders.  If ``object_hook``\n",
      "        is also defined, the ``object_pairs_hook`` takes priority.\n",
      "        \n",
      "        To use a custom ``JSONDecoder`` subclass, specify it with the ``cls``\n",
      "        kwarg; otherwise ``JSONDecoder`` is used.\n",
      "    \n",
      "    loads(s, *, cls=None, object_hook=None, parse_float=None, parse_int=None, parse_constant=None, object_pairs_hook=None, **kw)\n",
      "        Deserialize ``s`` (a ``str``, ``bytes`` or ``bytearray`` instance\n",
      "        containing a JSON document) to a Python object.\n",
      "        \n",
      "        ``object_hook`` is an optional function that will be called with the\n",
      "        result of any object literal decode (a ``dict``). The return value of\n",
      "        ``object_hook`` will be used instead of the ``dict``. This feature\n",
      "        can be used to implement custom decoders (e.g. JSON-RPC class hinting).\n",
      "        \n",
      "        ``object_pairs_hook`` is an optional function that will be called with the\n",
      "        result of any object literal decoded with an ordered list of pairs.  The\n",
      "        return value of ``object_pairs_hook`` will be used instead of the ``dict``.\n",
      "        This feature can be used to implement custom decoders.  If ``object_hook``\n",
      "        is also defined, the ``object_pairs_hook`` takes priority.\n",
      "        \n",
      "        ``parse_float``, if specified, will be called with the string\n",
      "        of every JSON float to be decoded. By default this is equivalent to\n",
      "        float(num_str). This can be used to use another datatype or parser\n",
      "        for JSON floats (e.g. decimal.Decimal).\n",
      "        \n",
      "        ``parse_int``, if specified, will be called with the string\n",
      "        of every JSON int to be decoded. By default this is equivalent to\n",
      "        int(num_str). This can be used to use another datatype or parser\n",
      "        for JSON integers (e.g. float).\n",
      "        \n",
      "        ``parse_constant``, if specified, will be called with one of the\n",
      "        following strings: -Infinity, Infinity, NaN.\n",
      "        This can be used to raise an exception if invalid JSON numbers\n",
      "        are encountered.\n",
      "        \n",
      "        To use a custom ``JSONDecoder`` subclass, specify it with the ``cls``\n",
      "        kwarg; otherwise ``JSONDecoder`` is used.\n",
      "\n",
      "DATA\n",
      "    __all__ = ['dump', 'dumps', 'load', 'loads', 'JSONDecoder', 'JSONDecod...\n",
      "\n",
      "VERSION\n",
      "    2.0.9\n",
      "\n",
      "AUTHOR\n",
      "    Bob Ippolito <bob@redivi.com>\n",
      "\n",
      "FILE\n",
      "    /opt/anaconda3/envs/py/lib/python3.10/json/__init__.py\n",
      "\n",
      "\n"
     ]
    }
   ],
   "source": [
    "help(json)"
   ]
  },
  {
   "cell_type": "code",
   "execution_count": 140,
   "id": "67cead5e",
   "metadata": {},
   "outputs": [
    {
     "ename": "TypeError",
     "evalue": "dump() missing 2 required positional arguments: 'obj' and 'fp'",
     "output_type": "error",
     "traceback": [
      "\u001b[0;31m---------------------------------------------------------------------------\u001b[0m",
      "\u001b[0;31mTypeError\u001b[0m                                 Traceback (most recent call last)",
      "Cell \u001b[0;32mIn[140], line 2\u001b[0m\n\u001b[1;32m      1\u001b[0m \u001b[38;5;66;03m# dump requires two arguments\u001b[39;00m\n\u001b[0;32m----> 2\u001b[0m data \u001b[38;5;241m=\u001b[39m \u001b[43mjson\u001b[49m\u001b[38;5;241;43m.\u001b[39;49m\u001b[43mdump\u001b[49m\u001b[43m(\u001b[49m\u001b[43m)\u001b[49m\n",
      "\u001b[0;31mTypeError\u001b[0m: dump() missing 2 required positional arguments: 'obj' and 'fp'"
     ]
    }
   ],
   "source": [
    "# dump requires two arguments\n",
    "data = json.dump()"
   ]
  },
  {
   "cell_type": "code",
   "execution_count": 141,
   "id": "49053c23",
   "metadata": {},
   "outputs": [],
   "source": [
    "# patching json object\n",
    "json = Mock()"
   ]
  },
  {
   "cell_type": "code",
   "execution_count": 142,
   "id": "fb76c285",
   "metadata": {},
   "outputs": [
    {
     "data": {
      "text/plain": [
       "<Mock name='mock.dump()' id='140202278305312'>"
      ]
     },
     "execution_count": 142,
     "metadata": {},
     "output_type": "execute_result"
    }
   ],
   "source": [
    "json.dump()\n",
    "# takes any or no arguments; returns Mock object"
   ]
  },
  {
   "cell_type": "markdown",
   "id": "8cff93fd",
   "metadata": {},
   "source": [
    "### Assertions and Inspection\n",
    "\n",
    "- Mock instances store data on how you used them\n",
    "    - e.g., if you called a method, stores information on how you called the method, and so on\n",
    "- examples of how to use this information"
   ]
  },
  {
   "cell_type": "code",
   "execution_count": 18,
   "id": "0042480a",
   "metadata": {},
   "outputs": [],
   "source": [
    "from unittest.mock import Mock"
   ]
  },
  {
   "cell_type": "code",
   "execution_count": 19,
   "id": "c1c7e507",
   "metadata": {},
   "outputs": [],
   "source": [
    "# create a mock object\n",
    "json = Mock()"
   ]
  },
  {
   "cell_type": "code",
   "execution_count": 20,
   "id": "44edb239",
   "metadata": {},
   "outputs": [
    {
     "data": {
      "text/plain": [
       "<Mock name='mock.loads()' id='140202253942992'>"
      ]
     },
     "execution_count": 20,
     "metadata": {},
     "output_type": "execute_result"
    }
   ],
   "source": [
    "json.loads('{\"key\": \"value\"}')"
   ]
  },
  {
   "cell_type": "code",
   "execution_count": 21,
   "id": "3a216d06",
   "metadata": {},
   "outputs": [],
   "source": [
    "# we know that we called loads() \n",
    "# so we can make assertions to test that expectation\n",
    "json.loads.assert_called()"
   ]
  },
  {
   "cell_type": "code",
   "execution_count": 22,
   "id": "93598992",
   "metadata": {},
   "outputs": [],
   "source": [
    "json.loads.assert_called_once()"
   ]
  },
  {
   "cell_type": "code",
   "execution_count": 23,
   "id": "e942c231",
   "metadata": {},
   "outputs": [],
   "source": [
    "json.loads.assert_called_with('{\"key\": \"value\"}')"
   ]
  },
  {
   "cell_type": "code",
   "execution_count": 24,
   "id": "0101ad5c",
   "metadata": {},
   "outputs": [
    {
     "ename": "AssertionError",
     "evalue": "expected call not found.\nExpected: loads('{\"key1\": \"value1\"}')\nActual: loads('{\"key\": \"value\"}')",
     "output_type": "error",
     "traceback": [
      "\u001b[0;31m---------------------------------------------------------------------------\u001b[0m",
      "\u001b[0;31mAssertionError\u001b[0m                            Traceback (most recent call last)",
      "Cell \u001b[0;32mIn[24], line 2\u001b[0m\n\u001b[1;32m      1\u001b[0m \u001b[38;5;66;03m# this should raise an exception - AssertionError\u001b[39;00m\n\u001b[0;32m----> 2\u001b[0m \u001b[43mjson\u001b[49m\u001b[38;5;241;43m.\u001b[39;49m\u001b[43mloads\u001b[49m\u001b[38;5;241;43m.\u001b[39;49m\u001b[43massert_called_with\u001b[49m\u001b[43m(\u001b[49m\u001b[38;5;124;43m'\u001b[39;49m\u001b[38;5;124;43m{\u001b[39;49m\u001b[38;5;124;43m\"\u001b[39;49m\u001b[38;5;124;43mkey1\u001b[39;49m\u001b[38;5;124;43m\"\u001b[39;49m\u001b[38;5;124;43m: \u001b[39;49m\u001b[38;5;124;43m\"\u001b[39;49m\u001b[38;5;124;43mvalue1\u001b[39;49m\u001b[38;5;124;43m\"\u001b[39;49m\u001b[38;5;124;43m}\u001b[39;49m\u001b[38;5;124;43m'\u001b[39;49m\u001b[43m)\u001b[49m\n",
      "File \u001b[0;32m/opt/anaconda3/envs/py/lib/python3.10/unittest/mock.py:919\u001b[0m, in \u001b[0;36mNonCallableMock.assert_called_with\u001b[0;34m(self, *args, **kwargs)\u001b[0m\n\u001b[1;32m    917\u001b[0m \u001b[38;5;28;01mif\u001b[39;00m actual \u001b[38;5;241m!=\u001b[39m expected:\n\u001b[1;32m    918\u001b[0m     cause \u001b[38;5;241m=\u001b[39m expected \u001b[38;5;28;01mif\u001b[39;00m \u001b[38;5;28misinstance\u001b[39m(expected, \u001b[38;5;167;01mException\u001b[39;00m) \u001b[38;5;28;01melse\u001b[39;00m \u001b[38;5;28;01mNone\u001b[39;00m\n\u001b[0;32m--> 919\u001b[0m     \u001b[38;5;28;01mraise\u001b[39;00m \u001b[38;5;167;01mAssertionError\u001b[39;00m(_error_message()) \u001b[38;5;28;01mfrom\u001b[39;00m \u001b[38;5;21;01mcause\u001b[39;00m\n",
      "\u001b[0;31mAssertionError\u001b[0m: expected call not found.\nExpected: loads('{\"key1\": \"value1\"}')\nActual: loads('{\"key\": \"value\"}')"
     ]
    }
   ],
   "source": [
    "# this should raise an exception - AssertionError\n",
    "json.loads.assert_called_with('{\"key1\": \"value1\"}')"
   ]
  },
  {
   "cell_type": "code",
   "execution_count": 25,
   "id": "5daf126b",
   "metadata": {},
   "outputs": [],
   "source": [
    "json.loads.assert_called_once_with('{\"key\": \"value\"}')"
   ]
  },
  {
   "cell_type": "code",
   "execution_count": 26,
   "id": "a9ba1931",
   "metadata": {},
   "outputs": [
    {
     "data": {
      "text/plain": [
       "<Mock name='mock.loads()' id='140202253942992'>"
      ]
     },
     "execution_count": 26,
     "metadata": {},
     "output_type": "execute_result"
    }
   ],
   "source": [
    "json.loads('{\"key\": \"value\"}')"
   ]
  },
  {
   "cell_type": "code",
   "execution_count": 27,
   "id": "15f94224",
   "metadata": {},
   "outputs": [
    {
     "ename": "AssertionError",
     "evalue": "Expected 'loads' to have been called once. Called 2 times.\nCalls: [call('{\"key\": \"value\"}'), call('{\"key\": \"value\"}')].",
     "output_type": "error",
     "traceback": [
      "\u001b[0;31m---------------------------------------------------------------------------\u001b[0m",
      "\u001b[0;31mAssertionError\u001b[0m                            Traceback (most recent call last)",
      "Cell \u001b[0;32mIn[27], line 1\u001b[0m\n\u001b[0;32m----> 1\u001b[0m \u001b[43mjson\u001b[49m\u001b[38;5;241;43m.\u001b[39;49m\u001b[43mloads\u001b[49m\u001b[38;5;241;43m.\u001b[39;49m\u001b[43massert_called_once\u001b[49m\u001b[43m(\u001b[49m\u001b[43m)\u001b[49m\n",
      "File \u001b[0;32m/opt/anaconda3/envs/py/lib/python3.10/unittest/mock.py:898\u001b[0m, in \u001b[0;36mNonCallableMock.assert_called_once\u001b[0;34m(self)\u001b[0m\n\u001b[1;32m    893\u001b[0m \u001b[38;5;28;01mif\u001b[39;00m \u001b[38;5;129;01mnot\u001b[39;00m \u001b[38;5;28mself\u001b[39m\u001b[38;5;241m.\u001b[39mcall_count \u001b[38;5;241m==\u001b[39m \u001b[38;5;241m1\u001b[39m:\n\u001b[1;32m    894\u001b[0m     msg \u001b[38;5;241m=\u001b[39m (\u001b[38;5;124m\"\u001b[39m\u001b[38;5;124mExpected \u001b[39m\u001b[38;5;124m'\u001b[39m\u001b[38;5;132;01m%s\u001b[39;00m\u001b[38;5;124m'\u001b[39m\u001b[38;5;124m to have been called once. Called \u001b[39m\u001b[38;5;132;01m%s\u001b[39;00m\u001b[38;5;124m times.\u001b[39m\u001b[38;5;132;01m%s\u001b[39;00m\u001b[38;5;124m\"\u001b[39m\n\u001b[1;32m    895\u001b[0m            \u001b[38;5;241m%\u001b[39m (\u001b[38;5;28mself\u001b[39m\u001b[38;5;241m.\u001b[39m_mock_name \u001b[38;5;129;01mor\u001b[39;00m \u001b[38;5;124m'\u001b[39m\u001b[38;5;124mmock\u001b[39m\u001b[38;5;124m'\u001b[39m,\n\u001b[1;32m    896\u001b[0m               \u001b[38;5;28mself\u001b[39m\u001b[38;5;241m.\u001b[39mcall_count,\n\u001b[1;32m    897\u001b[0m               \u001b[38;5;28mself\u001b[39m\u001b[38;5;241m.\u001b[39m_calls_repr()))\n\u001b[0;32m--> 898\u001b[0m     \u001b[38;5;28;01mraise\u001b[39;00m \u001b[38;5;167;01mAssertionError\u001b[39;00m(msg)\n",
      "\u001b[0;31mAssertionError\u001b[0m: Expected 'loads' to have been called once. Called 2 times.\nCalls: [call('{\"key\": \"value\"}'), call('{\"key\": \"value\"}')]."
     ]
    }
   ],
   "source": [
    "json.loads.assert_called_once()"
   ]
  },
  {
   "cell_type": "code",
   "execution_count": 28,
   "id": "584a2288",
   "metadata": {},
   "outputs": [
    {
     "ename": "AssertionError",
     "evalue": "Expected 'loads' to not have been called. Called 2 times.\nCalls: [call('{\"key\": \"value\"}'), call('{\"key\": \"value\"}')].",
     "output_type": "error",
     "traceback": [
      "\u001b[0;31m---------------------------------------------------------------------------\u001b[0m",
      "\u001b[0;31mAssertionError\u001b[0m                            Traceback (most recent call last)",
      "Cell \u001b[0;32mIn[28], line 1\u001b[0m\n\u001b[0;32m----> 1\u001b[0m \u001b[43mjson\u001b[49m\u001b[38;5;241;43m.\u001b[39;49m\u001b[43mloads\u001b[49m\u001b[38;5;241;43m.\u001b[39;49m\u001b[43massert_not_called\u001b[49m\u001b[43m(\u001b[49m\u001b[43m)\u001b[49m\n",
      "File \u001b[0;32m/opt/anaconda3/envs/py/lib/python3.10/unittest/mock.py:880\u001b[0m, in \u001b[0;36mNonCallableMock.assert_not_called\u001b[0;34m(self)\u001b[0m\n\u001b[1;32m    875\u001b[0m \u001b[38;5;28;01mif\u001b[39;00m \u001b[38;5;28mself\u001b[39m\u001b[38;5;241m.\u001b[39mcall_count \u001b[38;5;241m!=\u001b[39m \u001b[38;5;241m0\u001b[39m:\n\u001b[1;32m    876\u001b[0m     msg \u001b[38;5;241m=\u001b[39m (\u001b[38;5;124m\"\u001b[39m\u001b[38;5;124mExpected \u001b[39m\u001b[38;5;124m'\u001b[39m\u001b[38;5;132;01m%s\u001b[39;00m\u001b[38;5;124m'\u001b[39m\u001b[38;5;124m to not have been called. Called \u001b[39m\u001b[38;5;132;01m%s\u001b[39;00m\u001b[38;5;124m times.\u001b[39m\u001b[38;5;132;01m%s\u001b[39;00m\u001b[38;5;124m\"\u001b[39m\n\u001b[1;32m    877\u001b[0m            \u001b[38;5;241m%\u001b[39m (\u001b[38;5;28mself\u001b[39m\u001b[38;5;241m.\u001b[39m_mock_name \u001b[38;5;129;01mor\u001b[39;00m \u001b[38;5;124m'\u001b[39m\u001b[38;5;124mmock\u001b[39m\u001b[38;5;124m'\u001b[39m,\n\u001b[1;32m    878\u001b[0m               \u001b[38;5;28mself\u001b[39m\u001b[38;5;241m.\u001b[39mcall_count,\n\u001b[1;32m    879\u001b[0m               \u001b[38;5;28mself\u001b[39m\u001b[38;5;241m.\u001b[39m_calls_repr()))\n\u001b[0;32m--> 880\u001b[0m     \u001b[38;5;28;01mraise\u001b[39;00m \u001b[38;5;167;01mAssertionError\u001b[39;00m(msg)\n",
      "\u001b[0;31mAssertionError\u001b[0m: Expected 'loads' to not have been called. Called 2 times.\nCalls: [call('{\"key\": \"value\"}'), call('{\"key\": \"value\"}')]."
     ]
    }
   ],
   "source": [
    "json.loads.assert_not_called()"
   ]
  },
  {
   "cell_type": "markdown",
   "id": "9fe654ec",
   "metadata": {},
   "source": [
    "### Mock speical attributes\n",
    "\n",
    "- helps you understand how your application used an object"
   ]
  },
  {
   "cell_type": "code",
   "execution_count": 29,
   "id": "96b5cca9",
   "metadata": {},
   "outputs": [],
   "source": [
    "from unittest.mock import Mock"
   ]
  },
  {
   "cell_type": "code",
   "execution_count": 30,
   "id": "d9758100",
   "metadata": {},
   "outputs": [],
   "source": [
    "json = Mock()"
   ]
  },
  {
   "cell_type": "code",
   "execution_count": 31,
   "id": "00f1c1f2",
   "metadata": {},
   "outputs": [
    {
     "data": {
      "text/plain": [
       "<Mock name='mock.loads()' id='140202277001424'>"
      ]
     },
     "execution_count": 31,
     "metadata": {},
     "output_type": "execute_result"
    }
   ],
   "source": [
    "json.loads('{\"key\": \"value\"}')"
   ]
  },
  {
   "cell_type": "code",
   "execution_count": 32,
   "id": "261cfd30",
   "metadata": {},
   "outputs": [
    {
     "data": {
      "text/plain": [
       "<Mock name='mock.loads()' id='140202277001424'>"
      ]
     },
     "execution_count": 32,
     "metadata": {},
     "output_type": "execute_result"
    }
   ],
   "source": [
    "json.loads('{\"key1\": \"value1\"}')"
   ]
  },
  {
   "cell_type": "code",
   "execution_count": 33,
   "id": "9bc7ad44",
   "metadata": {},
   "outputs": [
    {
     "data": {
      "text/plain": [
       "2"
      ]
     },
     "execution_count": 33,
     "metadata": {},
     "output_type": "execute_result"
    }
   ],
   "source": [
    "# number of times you called loads\n",
    "json.loads.call_count"
   ]
  },
  {
   "cell_type": "code",
   "execution_count": 34,
   "id": "3683cb73",
   "metadata": {},
   "outputs": [
    {
     "data": {
      "text/plain": [
       "call('{\"key1\": \"value1\"}')"
      ]
     },
     "execution_count": 34,
     "metadata": {},
     "output_type": "execute_result"
    }
   ],
   "source": [
    "# the last loads call\n",
    "json.loads.call_args"
   ]
  },
  {
   "cell_type": "code",
   "execution_count": 35,
   "id": "2faa2ecc",
   "metadata": {},
   "outputs": [
    {
     "data": {
      "text/plain": [
       "[call.loads('{\"key\": \"value\"}'), call.loads('{\"key1\": \"value1\"}')]"
      ]
     },
     "execution_count": 35,
     "metadata": {},
     "output_type": "execute_result"
    }
   ],
   "source": [
    "# list of calls to json's methods (recursively)\n",
    "json.method_calls"
   ]
  },
  {
   "cell_type": "markdown",
   "id": "525ef3e6",
   "metadata": {},
   "source": [
    "### Managing a Mock's Return Value\n",
    "\n",
    "- mocks let you control your code's behavior during tests\n",
    "- one important aspect of the testing is to control object's behavior (methods) and their return values\n",
    "\n",
    "- e.g., write a function that determines whether today is a weekday\n",
    "- you can mock `datetime` and set the `.return_value` for `.today()` to a day that you choose"
   ]
  },
  {
   "cell_type": "code",
   "execution_count": 74,
   "id": "82f01654",
   "metadata": {},
   "outputs": [],
   "source": [
    "from datetime import datetime"
   ]
  },
  {
   "cell_type": "code",
   "execution_count": 75,
   "id": "d2e240cc",
   "metadata": {},
   "outputs": [
    {
     "data": {
      "text/plain": [
       "datetime.datetime(2023, 1, 5, 19, 43, 17, 17093)"
      ]
     },
     "execution_count": 75,
     "metadata": {},
     "output_type": "execute_result"
    }
   ],
   "source": [
    "datetime.today()"
   ]
  },
  {
   "cell_type": "code",
   "execution_count": 76,
   "id": "9d0f30f1",
   "metadata": {},
   "outputs": [],
   "source": [
    "def is_weekday():\n",
    "    today = datetime.today()\n",
    "    # Python's datetime library treats Monday as 0 and Sunday as 6\n",
    "    return 0 <= today.weekday() < 5\n"
   ]
  },
  {
   "cell_type": "code",
   "execution_count": 77,
   "id": "edff8ab3",
   "metadata": {},
   "outputs": [],
   "source": [
    "# Test if today is a weekday\n",
    "assert is_weekday()\n",
    "# if you run the test on weekend, you'll get an AssertionError"
   ]
  },
  {
   "cell_type": "code",
   "execution_count": 78,
   "id": "304e4854",
   "metadata": {},
   "outputs": [],
   "source": [
    "tuesday = datetime(year=2023, month=1, day=3)\n",
    "saturday = datetime(year=2023, month=1, day=7)"
   ]
  },
  {
   "cell_type": "code",
   "execution_count": 79,
   "id": "3ffca579",
   "metadata": {},
   "outputs": [],
   "source": [
    "# Mock datetime to control today's date\n",
    "datetime = Mock()"
   ]
  },
  {
   "cell_type": "code",
   "execution_count": 80,
   "id": "2c062a5d",
   "metadata": {},
   "outputs": [],
   "source": [
    "def is_weekday():\n",
    "    today = datetime.today()\n",
    "    # Python's datetime library treats Monday as 0 and Sunday as 6\n",
    "    return 0 <= today.weekday() < 5"
   ]
  },
  {
   "cell_type": "code",
   "execution_count": 81,
   "id": "031d86b3",
   "metadata": {},
   "outputs": [],
   "source": [
    "# Mock .today() to return Tuesday\n",
    "datetime.today.return_value = tuesday"
   ]
  },
  {
   "cell_type": "code",
   "execution_count": 82,
   "id": "7438fe07",
   "metadata": {},
   "outputs": [
    {
     "data": {
      "text/plain": [
       "datetime.datetime(2023, 1, 3, 0, 0)"
      ]
     },
     "execution_count": 82,
     "metadata": {},
     "output_type": "execute_result"
    }
   ],
   "source": [
    "datetime.today.return_value"
   ]
  },
  {
   "cell_type": "code",
   "execution_count": 83,
   "id": "b698eac3",
   "metadata": {},
   "outputs": [
    {
     "data": {
      "text/plain": [
       "3"
      ]
     },
     "execution_count": 83,
     "metadata": {},
     "output_type": "execute_result"
    }
   ],
   "source": [
    "datetime.today().day"
   ]
  },
  {
   "cell_type": "code",
   "execution_count": 84,
   "id": "e2d33122",
   "metadata": {},
   "outputs": [],
   "source": [
    "# Test tuesday is a weekday\n",
    "assert is_weekday()"
   ]
  },
  {
   "cell_type": "code",
   "execution_count": 85,
   "id": "fb294e14",
   "metadata": {},
   "outputs": [],
   "source": [
    "# Mock .today() to return Saturday\n",
    "datetime.today.return_value = saturday"
   ]
  },
  {
   "cell_type": "code",
   "execution_count": 86,
   "id": "4a77b27d",
   "metadata": {},
   "outputs": [
    {
     "ename": "AssertionError",
     "evalue": "",
     "output_type": "error",
     "traceback": [
      "\u001b[0;31m---------------------------------------------------------------------------\u001b[0m",
      "\u001b[0;31mAssertionError\u001b[0m                            Traceback (most recent call last)",
      "Cell \u001b[0;32mIn[86], line 2\u001b[0m\n\u001b[1;32m      1\u001b[0m \u001b[38;5;66;03m# Test Saturday is not a weekday\u001b[39;00m\n\u001b[0;32m----> 2\u001b[0m \u001b[38;5;28;01massert\u001b[39;00m is_weekday()\n",
      "\u001b[0;31mAssertionError\u001b[0m: "
     ]
    }
   ],
   "source": [
    "# Test Saturday is not a weekday\n",
    "assert is_weekday()"
   ]
  },
  {
   "cell_type": "markdown",
   "id": "7db857b5",
   "metadata": {},
   "source": [
    "### Managing Mock's side effects\n",
    "\n",
    "- you can control code's behavior by specifing a mocked function's side effects (https://docs.python.org/3/library/unittest.mock.html#unittest.mock.Mock.side_effect)\n",
    "- side effect defines what happens when you call the mocked function\n",
    "- you can use side effect to mock the return values, e.g.\n",
    "- see `ch_04_02/mock_demo.py` file for a full demo"
   ]
  },
  {
   "cell_type": "code",
   "execution_count": 49,
   "id": "44136344",
   "metadata": {},
   "outputs": [],
   "source": [
    "mock = Mock()"
   ]
  },
  {
   "cell_type": "code",
   "execution_count": 50,
   "id": "39de789f",
   "metadata": {},
   "outputs": [],
   "source": [
    "# using side_effect to raise an exception\n",
    "mock.side_effect = Exception('Boom')"
   ]
  },
  {
   "cell_type": "code",
   "execution_count": 51,
   "id": "8a37378f",
   "metadata": {},
   "outputs": [
    {
     "ename": "Exception",
     "evalue": "Boom",
     "output_type": "error",
     "traceback": [
      "\u001b[0;31m---------------------------------------------------------------------------\u001b[0m",
      "\u001b[0;31mException\u001b[0m                                 Traceback (most recent call last)",
      "Cell \u001b[0;32mIn[51], line 1\u001b[0m\n\u001b[0;32m----> 1\u001b[0m \u001b[43mmock\u001b[49m\u001b[43m(\u001b[49m\u001b[43m)\u001b[49m\n",
      "File \u001b[0;32m/opt/anaconda3/envs/py/lib/python3.10/unittest/mock.py:1104\u001b[0m, in \u001b[0;36mCallableMixin.__call__\u001b[0;34m(self, *args, **kwargs)\u001b[0m\n\u001b[1;32m   1102\u001b[0m \u001b[38;5;28mself\u001b[39m\u001b[38;5;241m.\u001b[39m_mock_check_sig(\u001b[38;5;241m*\u001b[39margs, \u001b[38;5;241m*\u001b[39m\u001b[38;5;241m*\u001b[39mkwargs)\n\u001b[1;32m   1103\u001b[0m \u001b[38;5;28mself\u001b[39m\u001b[38;5;241m.\u001b[39m_increment_mock_call(\u001b[38;5;241m*\u001b[39margs, \u001b[38;5;241m*\u001b[39m\u001b[38;5;241m*\u001b[39mkwargs)\n\u001b[0;32m-> 1104\u001b[0m \u001b[38;5;28;01mreturn\u001b[39;00m \u001b[38;5;28;43mself\u001b[39;49m\u001b[38;5;241;43m.\u001b[39;49m\u001b[43m_mock_call\u001b[49m\u001b[43m(\u001b[49m\u001b[38;5;241;43m*\u001b[39;49m\u001b[43margs\u001b[49m\u001b[43m,\u001b[49m\u001b[43m \u001b[49m\u001b[38;5;241;43m*\u001b[39;49m\u001b[38;5;241;43m*\u001b[39;49m\u001b[43mkwargs\u001b[49m\u001b[43m)\u001b[49m\n",
      "File \u001b[0;32m/opt/anaconda3/envs/py/lib/python3.10/unittest/mock.py:1108\u001b[0m, in \u001b[0;36mCallableMixin._mock_call\u001b[0;34m(self, *args, **kwargs)\u001b[0m\n\u001b[1;32m   1107\u001b[0m \u001b[38;5;28;01mdef\u001b[39;00m \u001b[38;5;21m_mock_call\u001b[39m(\u001b[38;5;28mself\u001b[39m, \u001b[38;5;241m/\u001b[39m, \u001b[38;5;241m*\u001b[39margs, \u001b[38;5;241m*\u001b[39m\u001b[38;5;241m*\u001b[39mkwargs):\n\u001b[0;32m-> 1108\u001b[0m     \u001b[38;5;28;01mreturn\u001b[39;00m \u001b[38;5;28;43mself\u001b[39;49m\u001b[38;5;241;43m.\u001b[39;49m\u001b[43m_execute_mock_call\u001b[49m\u001b[43m(\u001b[49m\u001b[38;5;241;43m*\u001b[39;49m\u001b[43margs\u001b[49m\u001b[43m,\u001b[49m\u001b[43m \u001b[49m\u001b[38;5;241;43m*\u001b[39;49m\u001b[38;5;241;43m*\u001b[39;49m\u001b[43mkwargs\u001b[49m\u001b[43m)\u001b[49m\n",
      "File \u001b[0;32m/opt/anaconda3/envs/py/lib/python3.10/unittest/mock.py:1163\u001b[0m, in \u001b[0;36mCallableMixin._execute_mock_call\u001b[0;34m(self, *args, **kwargs)\u001b[0m\n\u001b[1;32m   1161\u001b[0m \u001b[38;5;28;01mif\u001b[39;00m effect \u001b[38;5;129;01mis\u001b[39;00m \u001b[38;5;129;01mnot\u001b[39;00m \u001b[38;5;28;01mNone\u001b[39;00m:\n\u001b[1;32m   1162\u001b[0m     \u001b[38;5;28;01mif\u001b[39;00m _is_exception(effect):\n\u001b[0;32m-> 1163\u001b[0m         \u001b[38;5;28;01mraise\u001b[39;00m effect\n\u001b[1;32m   1164\u001b[0m     \u001b[38;5;28;01melif\u001b[39;00m \u001b[38;5;129;01mnot\u001b[39;00m _callable(effect):\n\u001b[1;32m   1165\u001b[0m         result \u001b[38;5;241m=\u001b[39m \u001b[38;5;28mnext\u001b[39m(effect)\n",
      "\u001b[0;31mException\u001b[0m: Boom"
     ]
    }
   ],
   "source": [
    "mock()"
   ]
  },
  {
   "cell_type": "code",
   "execution_count": 52,
   "id": "eaab75a1",
   "metadata": {},
   "outputs": [],
   "source": [
    "# using side_effect to return a sequence of values\n",
    "mock = Mock()\n",
    "mock.side_effect = [3, 2, 1]"
   ]
  },
  {
   "cell_type": "code",
   "execution_count": 53,
   "id": "6ddf1304",
   "metadata": {},
   "outputs": [
    {
     "data": {
      "text/plain": [
       "(3, 2, 1)"
      ]
     },
     "execution_count": 53,
     "metadata": {},
     "output_type": "execute_result"
    }
   ],
   "source": [
    "# call mock three times to return each side effect\n",
    "mock(), mock(), mock()"
   ]
  },
  {
   "cell_type": "markdown",
   "id": "61a2dd3f",
   "metadata": {},
   "source": [
    "### Configuring Your Mock\n",
    "\n",
    "- can configure Mock to setup some the object's behaviors and attributes\n",
    "- two ways to configure Mock:\n",
    "    - when you create it or when you use `.configure_mock()` method"
   ]
  },
  {
   "cell_type": "code",
   "execution_count": 54,
   "id": "6a43fd77",
   "metadata": {},
   "outputs": [],
   "source": [
    "mock = Mock(side_effect=Exception)"
   ]
  },
  {
   "cell_type": "code",
   "execution_count": 55,
   "id": "e36bdfec",
   "metadata": {},
   "outputs": [
    {
     "ename": "Exception",
     "evalue": "",
     "output_type": "error",
     "traceback": [
      "\u001b[0;31m---------------------------------------------------------------------------\u001b[0m",
      "\u001b[0;31mException\u001b[0m                                 Traceback (most recent call last)",
      "Cell \u001b[0;32mIn[55], line 1\u001b[0m\n\u001b[0;32m----> 1\u001b[0m \u001b[43mmock\u001b[49m\u001b[43m(\u001b[49m\u001b[43m)\u001b[49m\n",
      "File \u001b[0;32m/opt/anaconda3/envs/py/lib/python3.10/unittest/mock.py:1104\u001b[0m, in \u001b[0;36mCallableMixin.__call__\u001b[0;34m(self, *args, **kwargs)\u001b[0m\n\u001b[1;32m   1102\u001b[0m \u001b[38;5;28mself\u001b[39m\u001b[38;5;241m.\u001b[39m_mock_check_sig(\u001b[38;5;241m*\u001b[39margs, \u001b[38;5;241m*\u001b[39m\u001b[38;5;241m*\u001b[39mkwargs)\n\u001b[1;32m   1103\u001b[0m \u001b[38;5;28mself\u001b[39m\u001b[38;5;241m.\u001b[39m_increment_mock_call(\u001b[38;5;241m*\u001b[39margs, \u001b[38;5;241m*\u001b[39m\u001b[38;5;241m*\u001b[39mkwargs)\n\u001b[0;32m-> 1104\u001b[0m \u001b[38;5;28;01mreturn\u001b[39;00m \u001b[38;5;28;43mself\u001b[39;49m\u001b[38;5;241;43m.\u001b[39;49m\u001b[43m_mock_call\u001b[49m\u001b[43m(\u001b[49m\u001b[38;5;241;43m*\u001b[39;49m\u001b[43margs\u001b[49m\u001b[43m,\u001b[49m\u001b[43m \u001b[49m\u001b[38;5;241;43m*\u001b[39;49m\u001b[38;5;241;43m*\u001b[39;49m\u001b[43mkwargs\u001b[49m\u001b[43m)\u001b[49m\n",
      "File \u001b[0;32m/opt/anaconda3/envs/py/lib/python3.10/unittest/mock.py:1108\u001b[0m, in \u001b[0;36mCallableMixin._mock_call\u001b[0;34m(self, *args, **kwargs)\u001b[0m\n\u001b[1;32m   1107\u001b[0m \u001b[38;5;28;01mdef\u001b[39;00m \u001b[38;5;21m_mock_call\u001b[39m(\u001b[38;5;28mself\u001b[39m, \u001b[38;5;241m/\u001b[39m, \u001b[38;5;241m*\u001b[39margs, \u001b[38;5;241m*\u001b[39m\u001b[38;5;241m*\u001b[39mkwargs):\n\u001b[0;32m-> 1108\u001b[0m     \u001b[38;5;28;01mreturn\u001b[39;00m \u001b[38;5;28;43mself\u001b[39;49m\u001b[38;5;241;43m.\u001b[39;49m\u001b[43m_execute_mock_call\u001b[49m\u001b[43m(\u001b[49m\u001b[38;5;241;43m*\u001b[39;49m\u001b[43margs\u001b[49m\u001b[43m,\u001b[49m\u001b[43m \u001b[49m\u001b[38;5;241;43m*\u001b[39;49m\u001b[38;5;241;43m*\u001b[39;49m\u001b[43mkwargs\u001b[49m\u001b[43m)\u001b[49m\n",
      "File \u001b[0;32m/opt/anaconda3/envs/py/lib/python3.10/unittest/mock.py:1163\u001b[0m, in \u001b[0;36mCallableMixin._execute_mock_call\u001b[0;34m(self, *args, **kwargs)\u001b[0m\n\u001b[1;32m   1161\u001b[0m \u001b[38;5;28;01mif\u001b[39;00m effect \u001b[38;5;129;01mis\u001b[39;00m \u001b[38;5;129;01mnot\u001b[39;00m \u001b[38;5;28;01mNone\u001b[39;00m:\n\u001b[1;32m   1162\u001b[0m     \u001b[38;5;28;01mif\u001b[39;00m _is_exception(effect):\n\u001b[0;32m-> 1163\u001b[0m         \u001b[38;5;28;01mraise\u001b[39;00m effect\n\u001b[1;32m   1164\u001b[0m     \u001b[38;5;28;01melif\u001b[39;00m \u001b[38;5;129;01mnot\u001b[39;00m _callable(effect):\n\u001b[1;32m   1165\u001b[0m         result \u001b[38;5;241m=\u001b[39m \u001b[38;5;28mnext\u001b[39m(effect)\n",
      "\u001b[0;31mException\u001b[0m: "
     ]
    }
   ],
   "source": [
    "mock()"
   ]
  },
  {
   "cell_type": "code",
   "execution_count": 56,
   "id": "580735f5",
   "metadata": {},
   "outputs": [],
   "source": [
    "mock = Mock(name='Mocking with Python')"
   ]
  },
  {
   "cell_type": "code",
   "execution_count": 57,
   "id": "23c77026",
   "metadata": {},
   "outputs": [
    {
     "data": {
      "text/plain": [
       "<Mock name='Mocking with Python.name' id='140202276995904'>"
      ]
     },
     "execution_count": 57,
     "metadata": {},
     "output_type": "execute_result"
    }
   ],
   "source": [
    "mock.name"
   ]
  },
  {
   "cell_type": "code",
   "execution_count": 58,
   "id": "88338b1d",
   "metadata": {},
   "outputs": [],
   "source": [
    "mock = Mock(return_value=True)"
   ]
  },
  {
   "cell_type": "code",
   "execution_count": 59,
   "id": "14181e82",
   "metadata": {},
   "outputs": [
    {
     "data": {
      "text/plain": [
       "True"
      ]
     },
     "execution_count": 59,
     "metadata": {},
     "output_type": "execute_result"
    }
   ],
   "source": [
    "mock()"
   ]
  },
  {
   "cell_type": "code",
   "execution_count": 60,
   "id": "a1018a5c",
   "metadata": {},
   "outputs": [],
   "source": [
    "# using .configure_mock()\n",
    "mock = Mock()"
   ]
  },
  {
   "cell_type": "code",
   "execution_count": 61,
   "id": "70c3dac9",
   "metadata": {},
   "outputs": [],
   "source": [
    "mock.configure_mock(return_value=True)"
   ]
  },
  {
   "cell_type": "code",
   "execution_count": 62,
   "id": "bce90478",
   "metadata": {},
   "outputs": [
    {
     "data": {
      "text/plain": [
       "True"
      ]
     },
     "execution_count": 62,
     "metadata": {},
     "output_type": "execute_result"
    }
   ],
   "source": [
    "mock()"
   ]
  },
  {
   "cell_type": "code",
   "execution_count": 63,
   "id": "fdd0daa5",
   "metadata": {},
   "outputs": [],
   "source": [
    "mock = Mock(return_value='fish')"
   ]
  },
  {
   "cell_type": "code",
   "execution_count": 64,
   "id": "ac719b06",
   "metadata": {},
   "outputs": [
    {
     "data": {
      "text/plain": [
       "'fish'"
      ]
     },
     "execution_count": 64,
     "metadata": {},
     "output_type": "execute_result"
    }
   ],
   "source": [
    "mock()"
   ]
  },
  {
   "cell_type": "markdown",
   "id": "0a35317a",
   "metadata": {},
   "source": [
    "## patching\n",
    "\n",
    "- patching makes it easier to Mock objects that are imported from different module\n",
    "- `unittest.mock` provides a powerful mechanism for mocking objects called `patch()`\n",
    "- `patch()` looks up an object in a given module and replaces that object with a Mock\n",
    "- usually, you use patch() as a decorator or a context manager to provide a scope in which you'll mock the target object\n",
    "- patching a class replaces the class with `MagicMock` instance\n",
    "- see these demos: `ch04_02/patch_demo.py` and `ch04_02/patch_demo1.py`\n",
    "\n",
    "### patch( ) as a Decorator\n",
    "- use patch() as a decorator to mock an object for the duration of your entire test function\n",
    "- you can stack multiple patch decorators - see examples here: https://docs.python.org/3/library/unittest.mock.html"
   ]
  },
  {
   "cell_type": "code",
   "execution_count": 165,
   "id": "ed0d459d",
   "metadata": {},
   "outputs": [],
   "source": [
    "from unittest.mock import patch"
   ]
  },
  {
   "cell_type": "code",
   "execution_count": 303,
   "id": "c88ff919",
   "metadata": {},
   "outputs": [],
   "source": [
    "@patch('__main__.Hello', spec=True)\n",
    "def test_Hello(Hello_Mock):\n",
    "    assert Hello_Mock is Hello\n",
    "    # If the class is instantiated in the code under test \n",
    "    # then it will be the return_value of the mock that will be used.\n",
    "    h = Hello_Mock.return_value\n",
    "    h.greet.return_value = \"Howdy!\"\n",
    "    assert h.greet() == 'Howdy!'\n",
    "    assert Hello().greet() == 'Howdy!'\n",
    "    assert Hello_Mock.called\n",
    "    assert Hello.called"
   ]
  },
  {
   "cell_type": "code",
   "execution_count": 304,
   "id": "f6d663ff",
   "metadata": {},
   "outputs": [],
   "source": [
    "test_Hello()"
   ]
  },
  {
   "cell_type": "markdown",
   "id": "86f66f5d",
   "metadata": {},
   "source": [
    "### patch( ) as a Context Manager\n",
    "- you only want to mock an object for a part of the test scope\n",
    "- you're already using too many decorators or parameters which hurts your test readability\n"
   ]
  },
  {
   "cell_type": "code",
   "execution_count": 307,
   "id": "c9b80a06",
   "metadata": {},
   "outputs": [],
   "source": [
    "with patch('__main__.Hello', spec=True) as Hello_Mock:\n",
    "    assert Hello_Mock is Hello\n",
    "    h = Hello_Mock.return_value\n",
    "    h.greet.return_value = \"Good Bye!\"\n",
    "    assert h.greet() == 'Good Bye!'\n",
    "    assert Hello().greet() == 'Good Bye!'\n",
    "    assert Mock_Hello.called\n",
    "    assert Hello.called"
   ]
  },
  {
   "cell_type": "markdown",
   "id": "a51c9527",
   "metadata": {},
   "source": [
    "### patching only object's attributes/API\n",
    "\n",
    "- you can mock only one method of an object instead of the entire object\n",
    "- use `patch.object(class, 'class_method')`"
   ]
  },
  {
   "cell_type": "code",
   "execution_count": 156,
   "id": "3c5b815d",
   "metadata": {},
   "outputs": [],
   "source": [
    "from unittest.mock import patch"
   ]
  },
  {
   "cell_type": "code",
   "execution_count": 274,
   "id": "de1170af",
   "metadata": {},
   "outputs": [],
   "source": [
    "# just mock the greet method\n",
    "@patch.object(Hello, 'greet', spec=True)\n",
    "def test_greet(mock_greet) -> None:\n",
    "    Hello.greet.return_value = 'Howdy!'\n",
    "    # mock_greet is same as Hello.greet\n",
    "    assert mock_greet() == 'Howdy!'\n"
   ]
  },
  {
   "cell_type": "code",
   "execution_count": 275,
   "id": "89cd36df",
   "metadata": {},
   "outputs": [],
   "source": [
    "test_greet()"
   ]
  },
  {
   "cell_type": "code",
   "execution_count": 280,
   "id": "150c9c2c",
   "metadata": {},
   "outputs": [],
   "source": [
    "import requests\n",
    "from requests.exceptions import Timeout"
   ]
  },
  {
   "cell_type": "code",
   "execution_count": 283,
   "id": "5cb2a727",
   "metadata": {},
   "outputs": [],
   "source": [
    "response = requests.get('https://example.com')"
   ]
  },
  {
   "cell_type": "code",
   "execution_count": 284,
   "id": "861adf98",
   "metadata": {},
   "outputs": [
    {
     "name": "stdout",
     "output_type": "stream",
     "text": [
      "<Response [200]>\n"
     ]
    }
   ],
   "source": [
    "print(response)"
   ]
  },
  {
   "cell_type": "code",
   "execution_count": 287,
   "id": "f0a7f9c1",
   "metadata": {},
   "outputs": [
    {
     "data": {
      "text/plain": [
       "200"
      ]
     },
     "execution_count": 287,
     "metadata": {},
     "output_type": "execute_result"
    }
   ],
   "source": [
    "response.status_code"
   ]
  },
  {
   "cell_type": "code",
   "execution_count": 286,
   "id": "50ed8afd",
   "metadata": {},
   "outputs": [
    {
     "name": "stdout",
     "output_type": "stream",
     "text": [
      "Help on Response in module requests.models object:\n",
      "\n",
      "class Response(builtins.object)\n",
      " |  The :class:`Response <Response>` object, which contains a\n",
      " |  server's response to an HTTP request.\n",
      " |  \n",
      " |  Methods defined here:\n",
      " |  \n",
      " |  __bool__(self)\n",
      " |      Returns True if :attr:`status_code` is less than 400.\n",
      " |      \n",
      " |      This attribute checks if the status code of the response is between\n",
      " |      400 and 600 to see if there was a client error or a server error. If\n",
      " |      the status code, is between 200 and 400, this will return True. This\n",
      " |      is **not** a check to see if the response code is ``200 OK``.\n",
      " |  \n",
      " |  __enter__(self)\n",
      " |  \n",
      " |  __exit__(self, *args)\n",
      " |  \n",
      " |  __getstate__(self)\n",
      " |  \n",
      " |  __init__(self)\n",
      " |      Initialize self.  See help(type(self)) for accurate signature.\n",
      " |  \n",
      " |  __iter__(self)\n",
      " |      Allows you to use a response as an iterator.\n",
      " |  \n",
      " |  __nonzero__(self)\n",
      " |      Returns True if :attr:`status_code` is less than 400.\n",
      " |      \n",
      " |      This attribute checks if the status code of the response is between\n",
      " |      400 and 600 to see if there was a client error or a server error. If\n",
      " |      the status code, is between 200 and 400, this will return True. This\n",
      " |      is **not** a check to see if the response code is ``200 OK``.\n",
      " |  \n",
      " |  __repr__(self)\n",
      " |      Return repr(self).\n",
      " |  \n",
      " |  __setstate__(self, state)\n",
      " |  \n",
      " |  close(self)\n",
      " |      Releases the connection back to the pool. Once this method has been\n",
      " |      called the underlying ``raw`` object must not be accessed again.\n",
      " |      \n",
      " |      *Note: Should not normally need to be called explicitly.*\n",
      " |  \n",
      " |  iter_content(self, chunk_size=1, decode_unicode=False)\n",
      " |      Iterates over the response data.  When stream=True is set on the\n",
      " |      request, this avoids reading the content at once into memory for\n",
      " |      large responses.  The chunk size is the number of bytes it should\n",
      " |      read into memory.  This is not necessarily the length of each item\n",
      " |      returned as decoding can take place.\n",
      " |      \n",
      " |      chunk_size must be of type int or None. A value of None will\n",
      " |      function differently depending on the value of `stream`.\n",
      " |      stream=True will read data as it arrives in whatever size the\n",
      " |      chunks are received. If stream=False, data is returned as\n",
      " |      a single chunk.\n",
      " |      \n",
      " |      If decode_unicode is True, content will be decoded using the best\n",
      " |      available encoding based on the response.\n",
      " |  \n",
      " |  iter_lines(self, chunk_size=512, decode_unicode=False, delimiter=None)\n",
      " |      Iterates over the response data, one line at a time.  When\n",
      " |      stream=True is set on the request, this avoids reading the\n",
      " |      content at once into memory for large responses.\n",
      " |      \n",
      " |      .. note:: This method is not reentrant safe.\n",
      " |  \n",
      " |  json(self, **kwargs)\n",
      " |      Returns the json-encoded content of a response, if any.\n",
      " |      \n",
      " |      :param \\*\\*kwargs: Optional arguments that ``json.loads`` takes.\n",
      " |      :raises requests.exceptions.JSONDecodeError: If the response body does not\n",
      " |          contain valid json.\n",
      " |  \n",
      " |  raise_for_status(self)\n",
      " |      Raises :class:`HTTPError`, if one occurred.\n",
      " |  \n",
      " |  ----------------------------------------------------------------------\n",
      " |  Readonly properties defined here:\n",
      " |  \n",
      " |  apparent_encoding\n",
      " |      The apparent encoding, provided by the charset_normalizer or chardet libraries.\n",
      " |  \n",
      " |  content\n",
      " |      Content of the response, in bytes.\n",
      " |  \n",
      " |  is_permanent_redirect\n",
      " |      True if this Response one of the permanent versions of redirect.\n",
      " |  \n",
      " |  is_redirect\n",
      " |      True if this Response is a well-formed HTTP redirect that could have\n",
      " |      been processed automatically (by :meth:`Session.resolve_redirects`).\n",
      " |  \n",
      " |  links\n",
      " |      Returns the parsed header links of the response, if any.\n",
      " |  \n",
      " |  next\n",
      " |      Returns a PreparedRequest for the next request in a redirect chain, if there is one.\n",
      " |  \n",
      " |  ok\n",
      " |      Returns True if :attr:`status_code` is less than 400, False if not.\n",
      " |      \n",
      " |      This attribute checks if the status code of the response is between\n",
      " |      400 and 600 to see if there was a client error or a server error. If\n",
      " |      the status code is between 200 and 400, this will return True. This\n",
      " |      is **not** a check to see if the response code is ``200 OK``.\n",
      " |  \n",
      " |  text\n",
      " |      Content of the response, in unicode.\n",
      " |      \n",
      " |      If Response.encoding is None, encoding will be guessed using\n",
      " |      ``charset_normalizer`` or ``chardet``.\n",
      " |      \n",
      " |      The encoding of the response content is determined based solely on HTTP\n",
      " |      headers, following RFC 2616 to the letter. If you can take advantage of\n",
      " |      non-HTTP knowledge to make a better guess at the encoding, you should\n",
      " |      set ``r.encoding`` appropriately before accessing this property.\n",
      " |  \n",
      " |  ----------------------------------------------------------------------\n",
      " |  Data descriptors defined here:\n",
      " |  \n",
      " |  __dict__\n",
      " |      dictionary for instance variables (if defined)\n",
      " |  \n",
      " |  __weakref__\n",
      " |      list of weak references to the object (if defined)\n",
      " |  \n",
      " |  ----------------------------------------------------------------------\n",
      " |  Data and other attributes defined here:\n",
      " |  \n",
      " |  __attrs__ = ['_content', 'status_code', 'headers', 'url', 'history', '...\n",
      "\n"
     ]
    }
   ],
   "source": [
    "help(response)"
   ]
  },
  {
   "cell_type": "code",
   "execution_count": 290,
   "id": "3c4697b3",
   "metadata": {},
   "outputs": [],
   "source": [
    "@patch.object(requests, 'get') # (class, 'class_method')\n",
    "def test_requests_get_404(mock_method):\n",
    "    url = 'http://localhost/calendar/api/holidays'\n",
    "    requests.get.return_value = Mock(status_code=404)\n",
    "    response = requests.get(url)\n",
    "    mock_method.assert_called_with(url)\n",
    "    assert(response.status_code == 404)"
   ]
  },
  {
   "cell_type": "code",
   "execution_count": 291,
   "id": "bda812f6",
   "metadata": {},
   "outputs": [],
   "source": [
    "test_requests_get()"
   ]
  },
  {
   "cell_type": "markdown",
   "id": "28a620a2",
   "metadata": {},
   "source": [
    "### Patching Standard IO\n",
    "\n",
    "- if the Class API/function uses print, stdin, it'll be difficult to unittest without patching stdio\n",
    "- you can patch stdio with StringIO"
   ]
  },
  {
   "cell_type": "code",
   "execution_count": 310,
   "id": "b3a44d9f",
   "metadata": {},
   "outputs": [],
   "source": [
    "def answer():\n",
    "    print('Some Result')\n",
    "    "
   ]
  },
  {
   "cell_type": "code",
   "execution_count": 311,
   "id": "e63be3a3",
   "metadata": {},
   "outputs": [],
   "source": [
    "from io import StringIO"
   ]
  },
  {
   "cell_type": "code",
   "execution_count": 319,
   "id": "5b770365",
   "metadata": {},
   "outputs": [],
   "source": [
    "@patch('sys.stdout', new_callable=StringIO)\n",
    "def test_answer(mock_stdout) -> None:\n",
    "    answer()\n",
    "    assert mock_stdout.getvalue() == 'Some Result\\n'"
   ]
  },
  {
   "cell_type": "code",
   "execution_count": 320,
   "id": "5910efae",
   "metadata": {},
   "outputs": [],
   "source": [
    "test_answer()"
   ]
  },
  {
   "cell_type": "code",
   "execution_count": 323,
   "id": "1219c2b6",
   "metadata": {},
   "outputs": [],
   "source": [
    "with patch('sys.stdout', new_callable=StringIO) as mock_stdout:\n",
    "    answer()\n",
    "    assert mock_stdout.getvalue() == 'Some Result\\n'"
   ]
  },
  {
   "cell_type": "code",
   "execution_count": 369,
   "id": "30491c68",
   "metadata": {},
   "outputs": [],
   "source": [
    "# standard input\n",
    "import sys\n",
    "\n",
    "def getData():\n",
    "    x = sys.stdin.read()\n",
    "    return x\n",
    "\n",
    "def getLines():\n",
    "    x = sys.stdin.readlines()\n",
    "    return x\n",
    "\n",
    "def getInput():\n",
    "    x = input()\n",
    "    return x"
   ]
  },
  {
   "cell_type": "code",
   "execution_count": 370,
   "id": "9609d2f2",
   "metadata": {},
   "outputs": [
    {
     "name": "stdout",
     "output_type": "stream",
     "text": [
      "some data\n"
     ]
    }
   ],
   "source": [
    "data = getInput()"
   ]
  },
  {
   "cell_type": "code",
   "execution_count": 371,
   "id": "58cb3ca2",
   "metadata": {},
   "outputs": [
    {
     "data": {
      "text/plain": [
       "'some data'"
      ]
     },
     "execution_count": 371,
     "metadata": {},
     "output_type": "execute_result"
    }
   ],
   "source": [
    "data"
   ]
  },
  {
   "cell_type": "code",
   "execution_count": 364,
   "id": "04db5881",
   "metadata": {},
   "outputs": [],
   "source": [
    "@patch('sys.stdin')\n",
    "def test_getData(mock_stdin) -> None:\n",
    "    mock_stdin.read.return_value = '2 3\\n'\n",
    "    data = getData()\n",
    "    assert data == '2 3\\n'"
   ]
  },
  {
   "cell_type": "code",
   "execution_count": 365,
   "id": "d421c4dc",
   "metadata": {},
   "outputs": [],
   "source": [
    "test_getData()"
   ]
  },
  {
   "cell_type": "code",
   "execution_count": 368,
   "id": "ce5edcb8",
   "metadata": {},
   "outputs": [
    {
     "name": "stdout",
     "output_type": "stream",
     "text": [
      "['1 2\\n', '3 4\\n']\n"
     ]
    }
   ],
   "source": [
    "with patch('sys.stdin') as mock_stdin:\n",
    "    mock_stdin.readlines.return_value = ['1 2\\n', '3 4\\n']\n",
    "    data = getLines()\n",
    "    print(data)\n",
    "    assert data == ['1 2\\n', '3 4\\n']\n",
    "    "
   ]
  },
  {
   "cell_type": "code",
   "execution_count": 372,
   "id": "c6216d7e",
   "metadata": {},
   "outputs": [],
   "source": [
    "with patch('__main__.input') as mock_input:\n",
    "    mock_input.return_value = '1 2 3 4'\n",
    "    assert getInput() == '1 2 3 4'"
   ]
  },
  {
   "cell_type": "markdown",
   "id": "1c79be82",
   "metadata": {},
   "source": [
    "### where to patch\n",
    "\n",
    "- for patching to work, you must ensure that you patch the name used by the system under test\n",
    "- must tell `patch()` correctly where to look for the object/name you want mocked\n",
    "- if you choose the wrong target location, the result of `patch()` could be something you didn't expect\n",
    "- good rule of thumb is to patch() the object where it is *looked up*"
   ]
  },
  {
   "cell_type": "code",
   "execution_count": 110,
   "id": "5171ab17",
   "metadata": {},
   "outputs": [],
   "source": [
    "# datetime module is imported\n",
    "import datetime\n",
    "from unittest.mock import patch"
   ]
  },
  {
   "cell_type": "code",
   "execution_count": 112,
   "id": "36799399",
   "metadata": {},
   "outputs": [
    {
     "name": "stdout",
     "output_type": "stream",
     "text": [
      "<module 'datetime' from '/opt/anaconda3/envs/py/lib/python3.10/datetime.py'>\n",
      "<MagicMock name='datetime' id='140202278341216'>\n"
     ]
    }
   ],
   "source": [
    "with patch('datetime.datetime'):\n",
    "    # datetime class is patched MagicMock now\n",
    "    print(datetime)\n",
    "    print(datetime.datetime)"
   ]
  },
  {
   "cell_type": "code",
   "execution_count": 117,
   "id": "8e776e6b",
   "metadata": {},
   "outputs": [],
   "source": [
    "# just the datetime class is imported\n",
    "from datetime import datetime"
   ]
  },
  {
   "cell_type": "code",
   "execution_count": 120,
   "id": "d7aaa9dd",
   "metadata": {},
   "outputs": [
    {
     "name": "stdout",
     "output_type": "stream",
     "text": [
      "<class 'datetime.datetime'>\n",
      "2023-01-05 20:37:26.930897\n"
     ]
    }
   ],
   "source": [
    "# the patch has no effect because there's \n",
    "# unmocked datetime class imported into the current scope\n",
    "with patch('datetime.datetime'):\n",
    "    print(datetime)\n",
    "    print(datetime.today())"
   ]
  },
  {
   "cell_type": "code",
   "execution_count": 121,
   "id": "34f39d64",
   "metadata": {},
   "outputs": [
    {
     "name": "stdout",
     "output_type": "stream",
     "text": [
      "<MagicMock name='datetime' id='140202253954032'>\n"
     ]
    }
   ],
   "source": [
    "# if you need to patchdatetime class imported into the global namespace\n",
    "# you do the following\n",
    "with patch('__main__.datetime'):\n",
    "    print(datetime)"
   ]
  },
  {
   "cell_type": "markdown",
   "id": "64b5e896",
   "metadata": {},
   "source": [
    "### common mocking problems\n",
    "\n",
    "### changes to object interfaces and misspellings\n",
    "\n",
    "- when interface of an object changes, any tests relying on a Mock of that object may become irrelevant\n",
    "- misspelling can break a test; recall that Mock creates its interface when you access its members\n",
    "    - you'll essentially create a new interface when you misspell a name\n",
    "\n",
    "### changes to external dependencies\n",
    "\n",
    "- when external dependency changes its interface, your Python objects will become invalid\n",
    "- your tests will pass but the actual production code will fail\n",
    "\n",
    "### avoiding common problems using specifications\n",
    "\n",
    "- use `spec` parameter providing the list of valid interface/method names of module/class you're mocking"
   ]
  },
  {
   "cell_type": "code",
   "execution_count": 122,
   "id": "2da6db15",
   "metadata": {},
   "outputs": [],
   "source": [
    "from unittest.mock import Mock"
   ]
  },
  {
   "cell_type": "code",
   "execution_count": 123,
   "id": "a75999d3",
   "metadata": {},
   "outputs": [],
   "source": [
    "# provide a list of valid api names of the class you want to mock \n",
    "calendar = Mock(spec=['is_weekday', 'get_holidays'])"
   ]
  },
  {
   "cell_type": "code",
   "execution_count": 124,
   "id": "18f06e29",
   "metadata": {},
   "outputs": [
    {
     "data": {
      "text/plain": [
       "<Mock name='mock.is_weekday()' id='140202277534256'>"
      ]
     },
     "execution_count": 124,
     "metadata": {},
     "output_type": "execute_result"
    }
   ],
   "source": [
    "calendar.is_weekday()"
   ]
  },
  {
   "cell_type": "code",
   "execution_count": 126,
   "id": "5c076c96",
   "metadata": {},
   "outputs": [
    {
     "ename": "AttributeError",
     "evalue": "Mock object has no attribute 'create_event'",
     "output_type": "error",
     "traceback": [
      "\u001b[0;31m---------------------------------------------------------------------------\u001b[0m",
      "\u001b[0;31mAttributeError\u001b[0m                            Traceback (most recent call last)",
      "Cell \u001b[0;32mIn[126], line 2\u001b[0m\n\u001b[1;32m      1\u001b[0m \u001b[38;5;66;03m# Mock raises AttributeError\u001b[39;00m\n\u001b[0;32m----> 2\u001b[0m \u001b[43mcalendar\u001b[49m\u001b[38;5;241;43m.\u001b[39;49m\u001b[43mcreate_event\u001b[49m()\n",
      "File \u001b[0;32m/opt/anaconda3/envs/py/lib/python3.10/unittest/mock.py:634\u001b[0m, in \u001b[0;36mNonCallableMock.__getattr__\u001b[0;34m(self, name)\u001b[0m\n\u001b[1;32m    632\u001b[0m \u001b[38;5;28;01melif\u001b[39;00m \u001b[38;5;28mself\u001b[39m\u001b[38;5;241m.\u001b[39m_mock_methods \u001b[38;5;129;01mis\u001b[39;00m \u001b[38;5;129;01mnot\u001b[39;00m \u001b[38;5;28;01mNone\u001b[39;00m:\n\u001b[1;32m    633\u001b[0m     \u001b[38;5;28;01mif\u001b[39;00m name \u001b[38;5;129;01mnot\u001b[39;00m \u001b[38;5;129;01min\u001b[39;00m \u001b[38;5;28mself\u001b[39m\u001b[38;5;241m.\u001b[39m_mock_methods \u001b[38;5;129;01mor\u001b[39;00m name \u001b[38;5;129;01min\u001b[39;00m _all_magics:\n\u001b[0;32m--> 634\u001b[0m         \u001b[38;5;28;01mraise\u001b[39;00m \u001b[38;5;167;01mAttributeError\u001b[39;00m(\u001b[38;5;124m\"\u001b[39m\u001b[38;5;124mMock object has no attribute \u001b[39m\u001b[38;5;132;01m%r\u001b[39;00m\u001b[38;5;124m\"\u001b[39m \u001b[38;5;241m%\u001b[39m name)\n\u001b[1;32m    635\u001b[0m \u001b[38;5;28;01melif\u001b[39;00m _is_magic(name):\n\u001b[1;32m    636\u001b[0m     \u001b[38;5;28;01mraise\u001b[39;00m \u001b[38;5;167;01mAttributeError\u001b[39;00m(name)\n",
      "\u001b[0;31mAttributeError\u001b[0m: Mock object has no attribute 'create_event'"
     ]
    }
   ],
   "source": [
    "# Mock raises AttributeError\n",
    "calendar.create_event()"
   ]
  },
  {
   "cell_type": "code",
   "execution_count": 129,
   "id": "9af088dc",
   "metadata": {},
   "outputs": [],
   "source": [
    "# automatically create specification\n",
    "from unittest.mock import create_autospec\n",
    "\n",
    "from src.ch_04_02 import my_calendar"
   ]
  },
  {
   "cell_type": "code",
   "execution_count": 130,
   "id": "4ccc8604",
   "metadata": {},
   "outputs": [],
   "source": [
    "calendar = create_autospec(my_calendar)"
   ]
  },
  {
   "cell_type": "code",
   "execution_count": 133,
   "id": "650959c6",
   "metadata": {},
   "outputs": [
    {
     "data": {
      "text/plain": [
       "<MagicMock name='mock.is_weekday()' id='140202278122688'>"
      ]
     },
     "execution_count": 133,
     "metadata": {},
     "output_type": "execute_result"
    }
   ],
   "source": [
    "calendar.is_weekday()"
   ]
  },
  {
   "cell_type": "code",
   "execution_count": 134,
   "id": "5f65123f",
   "metadata": {},
   "outputs": [
    {
     "ename": "AttributeError",
     "evalue": "Mock object has no attribute 'create_event'",
     "output_type": "error",
     "traceback": [
      "\u001b[0;31m---------------------------------------------------------------------------\u001b[0m",
      "\u001b[0;31mAttributeError\u001b[0m                            Traceback (most recent call last)",
      "Cell \u001b[0;32mIn[134], line 1\u001b[0m\n\u001b[0;32m----> 1\u001b[0m \u001b[43mcalendar\u001b[49m\u001b[38;5;241;43m.\u001b[39;49m\u001b[43mcreate_event\u001b[49m()\n",
      "File \u001b[0;32m/opt/anaconda3/envs/py/lib/python3.10/unittest/mock.py:634\u001b[0m, in \u001b[0;36mNonCallableMock.__getattr__\u001b[0;34m(self, name)\u001b[0m\n\u001b[1;32m    632\u001b[0m \u001b[38;5;28;01melif\u001b[39;00m \u001b[38;5;28mself\u001b[39m\u001b[38;5;241m.\u001b[39m_mock_methods \u001b[38;5;129;01mis\u001b[39;00m \u001b[38;5;129;01mnot\u001b[39;00m \u001b[38;5;28;01mNone\u001b[39;00m:\n\u001b[1;32m    633\u001b[0m     \u001b[38;5;28;01mif\u001b[39;00m name \u001b[38;5;129;01mnot\u001b[39;00m \u001b[38;5;129;01min\u001b[39;00m \u001b[38;5;28mself\u001b[39m\u001b[38;5;241m.\u001b[39m_mock_methods \u001b[38;5;129;01mor\u001b[39;00m name \u001b[38;5;129;01min\u001b[39;00m _all_magics:\n\u001b[0;32m--> 634\u001b[0m         \u001b[38;5;28;01mraise\u001b[39;00m \u001b[38;5;167;01mAttributeError\u001b[39;00m(\u001b[38;5;124m\"\u001b[39m\u001b[38;5;124mMock object has no attribute \u001b[39m\u001b[38;5;132;01m%r\u001b[39;00m\u001b[38;5;124m\"\u001b[39m \u001b[38;5;241m%\u001b[39m name)\n\u001b[1;32m    635\u001b[0m \u001b[38;5;28;01melif\u001b[39;00m _is_magic(name):\n\u001b[1;32m    636\u001b[0m     \u001b[38;5;28;01mraise\u001b[39;00m \u001b[38;5;167;01mAttributeError\u001b[39;00m(name)\n",
      "\u001b[0;31mAttributeError\u001b[0m: Mock object has no attribute 'create_event'"
     ]
    }
   ],
   "source": [
    "calendar.create_event()"
   ]
  },
  {
   "cell_type": "code",
   "execution_count": 135,
   "id": "fc0326e3",
   "metadata": {},
   "outputs": [
    {
     "ename": "AttributeError",
     "evalue": "Mock object has no attribute 'create_event'",
     "output_type": "error",
     "traceback": [
      "\u001b[0;31m---------------------------------------------------------------------------\u001b[0m",
      "\u001b[0;31mAttributeError\u001b[0m                            Traceback (most recent call last)",
      "Cell \u001b[0;32mIn[135], line 4\u001b[0m\n\u001b[1;32m      2\u001b[0m \u001b[38;5;28;01mwith\u001b[39;00m patch(\u001b[38;5;124m'\u001b[39m\u001b[38;5;124m__main__.my_calendar\u001b[39m\u001b[38;5;124m'\u001b[39m, autospec\u001b[38;5;241m=\u001b[39m\u001b[38;5;28;01mTrue\u001b[39;00m) \u001b[38;5;28;01mas\u001b[39;00m calendar:\n\u001b[1;32m      3\u001b[0m     calendar\u001b[38;5;241m.\u001b[39mis_weekday()\n\u001b[0;32m----> 4\u001b[0m     \u001b[43mcalendar\u001b[49m\u001b[38;5;241;43m.\u001b[39;49m\u001b[43mcreate_event\u001b[49m()\n",
      "File \u001b[0;32m/opt/anaconda3/envs/py/lib/python3.10/unittest/mock.py:634\u001b[0m, in \u001b[0;36mNonCallableMock.__getattr__\u001b[0;34m(self, name)\u001b[0m\n\u001b[1;32m    632\u001b[0m \u001b[38;5;28;01melif\u001b[39;00m \u001b[38;5;28mself\u001b[39m\u001b[38;5;241m.\u001b[39m_mock_methods \u001b[38;5;129;01mis\u001b[39;00m \u001b[38;5;129;01mnot\u001b[39;00m \u001b[38;5;28;01mNone\u001b[39;00m:\n\u001b[1;32m    633\u001b[0m     \u001b[38;5;28;01mif\u001b[39;00m name \u001b[38;5;129;01mnot\u001b[39;00m \u001b[38;5;129;01min\u001b[39;00m \u001b[38;5;28mself\u001b[39m\u001b[38;5;241m.\u001b[39m_mock_methods \u001b[38;5;129;01mor\u001b[39;00m name \u001b[38;5;129;01min\u001b[39;00m _all_magics:\n\u001b[0;32m--> 634\u001b[0m         \u001b[38;5;28;01mraise\u001b[39;00m \u001b[38;5;167;01mAttributeError\u001b[39;00m(\u001b[38;5;124m\"\u001b[39m\u001b[38;5;124mMock object has no attribute \u001b[39m\u001b[38;5;132;01m%r\u001b[39;00m\u001b[38;5;124m\"\u001b[39m \u001b[38;5;241m%\u001b[39m name)\n\u001b[1;32m    635\u001b[0m \u001b[38;5;28;01melif\u001b[39;00m _is_magic(name):\n\u001b[1;32m    636\u001b[0m     \u001b[38;5;28;01mraise\u001b[39;00m \u001b[38;5;167;01mAttributeError\u001b[39;00m(name)\n",
      "\u001b[0;31mAttributeError\u001b[0m: Mock object has no attribute 'create_event'"
     ]
    }
   ],
   "source": [
    "# if you're using patch do the following\n",
    "with patch('__main__.my_calendar', autospec=True) as calendar:\n",
    "    calendar.is_weekday()\n",
    "    calendar.create_event()"
   ]
  },
  {
   "cell_type": "markdown",
   "id": "69c32b32",
   "metadata": {},
   "source": [
    "## How much testing is enough?\n",
    "\n",
    "- how much is our code is actutally being tested\n",
    "- According to E. W. Dijkstra - \"Program testing can be used to show the presence of bugs, but never to show their absence!\"\n",
    "- **code coverage** is a count of the number of lines of code that are executed by a program and by test code\n",
    "- we can download and use **coverage** library to do just that\n",
    "- install coverage first\n",
    "\n",
    "```bash\n",
    "python -m pip install coverage\n",
    "\n",
    "```bash\n",
    "(py) ╭─rbasnet@MacBook-Pro ~/projects/Python-Object-Oriented-Programming/src/ch_04 ‹main●› \n",
    "╰─$ coverage run -m pytest tests/test_stats.py \n",
    "============================ test session starts =============================\n",
    "platform darwin -- Python 3.10.8, pytest-7.1.2, pluggy-1.0.0\n",
    "rootdir: /Users/rbasnet/projects/Python-Object-Oriented-Programming/src/ch_04\n",
    "plugins: anyio-3.5.0\n",
    "collected 3 items                                                            \n",
    "\n",
    "tests/test_stats.py ...                                                [100%]\n",
    "\n",
    "(py) ╭─rbasnet@MacBook-Pro ~/projects/Python-Object-Oriented-Programming/src/ch_04 ‹main●› \n",
    "╰─$ coverage report\n",
    "Name                  Stmts   Miss  Cover\n",
    "-----------------------------------------\n",
    "stats.py                 20      0   100%\n",
    "tests/__init__.py         0      0   100%\n",
    "tests/test_stats.py      15      0   100%\n",
    "-----------------------------------------\n",
    "\n",
    "(py) ╭─rbasnet@MacBook-Pro ~/projects/Python-Object-Oriented-Programming/src/ch_04 ‹main●› \n",
    "╰─$ coverage report -m\n",
    "Name                  Stmts   Miss  Cover   Missing\n",
    "---------------------------------------------------\n",
    "stats.py                 20      0   100%\n",
    "tests/__init__.py         0      0   100%\n",
    "tests/test_stats.py      15      0   100%\n",
    "---------------------------------------------------\n",
    "TOTAL                    35      0   100%\n",
    "\n",
    "```\n",
    "\n",
    "- **html** report gives more interactive report especially if the coverage is not 100%\n",
    "```bash\n",
    "\n",
    "```bash\n",
    "(py) ╭─rbasnet@MacBook-Pro ~/projects/Python-Object-Oriented-Programming/src/ch_04_02 ‹main●› \n",
    "╰─$ coverage html\n",
    "Wrote HTML report to htmlcov/index.html\n",
    "```"
   ]
  },
  {
   "cell_type": "markdown",
   "id": "5fecadbc",
   "metadata": {},
   "source": [
    "## Exercises\n",
    "\n",
    "- solve the following Kattis problems using OOD\n",
    "- must write adequate unittesting for the class API\n",
    "- must write integration testing using Mock to simulate input and output for complete program testing\n",
    "- use coverage to create html coverage report of your testing\n",
    "\n",
    "1. FizzBuzz - https://open.kattis.com/problems/fizzbuzz\n",
    "2. Mixed Fractions - https://open.kattis.com/problems/mixedfractions\n"
   ]
  },
  {
   "cell_type": "code",
   "execution_count": null,
   "id": "7e293cde",
   "metadata": {},
   "outputs": [],
   "source": []
  }
 ],
 "metadata": {
  "kernelspec": {
   "display_name": "Python 3 (ipykernel)",
   "language": "python",
   "name": "python3"
  },
  "language_info": {
   "codemirror_mode": {
    "name": "ipython",
    "version": 3
   },
   "file_extension": ".py",
   "mimetype": "text/x-python",
   "name": "python",
   "nbconvert_exporter": "python",
   "pygments_lexer": "ipython3",
   "version": "3.10.8"
  }
 },
 "nbformat": 4,
 "nbformat_minor": 5
}
