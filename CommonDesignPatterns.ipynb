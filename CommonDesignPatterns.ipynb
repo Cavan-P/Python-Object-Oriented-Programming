{
 "cells": [
  {
   "cell_type": "markdown",
   "id": "1b3b8571",
   "metadata": {},
   "source": [
    "# Common Design Patterns\n",
    "\n",
    "- learn some common design patterns and how they're implemented in Python\n",
    "- topics:\n",
    "    - the Decorator pattern\n",
    "    - the Observer pattern\n",
    "    - the Strategy pattern\n",
    "    - the Command pattern\n",
    "    - the State pattern\n",
    "    - the Singleton pattern\n",
    "    \n",
    "## The Decorator pattern\n",
    "\n",
    " - the Decorator pattern allows us to *wrap* an object that provides core functionalities with other objects\n",
    " - two primary uses:\n",
    "     - enhancing the response of a component as it sends data to a second component\n",
    "     - supporting multiple optional behaviors\n",
    "     "
   ]
  },
  {
   "cell_type": "code",
   "execution_count": null,
   "id": "645bef2d",
   "metadata": {},
   "outputs": [],
   "source": []
  }
 ],
 "metadata": {
  "kernelspec": {
   "display_name": "Python 3 (ipykernel)",
   "language": "python",
   "name": "python3"
  },
  "language_info": {
   "codemirror_mode": {
    "name": "ipython",
    "version": 3
   },
   "file_extension": ".py",
   "mimetype": "text/x-python",
   "name": "python",
   "nbconvert_exporter": "python",
   "pygments_lexer": "ipython3",
   "version": "3.10.8"
  }
 },
 "nbformat": 4,
 "nbformat_minor": 5
}
