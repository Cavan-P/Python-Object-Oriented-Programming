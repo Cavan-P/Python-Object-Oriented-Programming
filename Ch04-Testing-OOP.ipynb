{
 "cells": [
  {
   "cell_type": "markdown",
   "id": "7b8c2292",
   "metadata": {},
   "source": [
    "# Testing OO Programs\n",
    "\n",
    "## Topics\n",
    "\n",
    "- the importance of unit testing\n",
    "- test driven development\n",
    "- the `pyteest` tool\n",
    "- the `mock` module\n",
    "- code coverage\n",
    "\n",
    "## Why test?\n",
    "\n",
    "- programmers must know the importance of testing\n",
    "- strongly and statically typed languages (C++, Java) are usually safer \n",
    "    - type checking is done during compile time\n",
    "- testing is more important in Python\n",
    "    - Python checks for data/values not types; i.e., during runtime\n",
    "- * Software features that can't be demonstrated by automated tests simply don't exist* - Kent Beck\n",
    "- four main reasons to write tests:\n",
    "    1. to ensure that code is working the way the developer thinks it should\n",
    "    2. to ensure that code continues working when we make changes\n",
    "    3. to ensure that developer understood the requirements\n",
    "    4. to ensure that the code we are writing has a maintainable interface"
   ]
  },
  {
   "cell_type": "markdown",
   "id": "e49f18a8",
   "metadata": {},
   "source": [
    "## Test-driven development\n",
    "- mantra: write tests first\n",
    "- can be fun; allows us to build little puzzles to solve\n",
    "- then, we implement the code to solve those puzzles\n",
    "- two goals:\n",
    "    1. ensure that tests really get written\n",
    "    2. forces us to consider how the code will be used\n",
    "- helps us to break up the initial problem into smaller, testable problems\n",
    "- combine the tested solutions into larger, also tested, solutions"
   ]
  },
  {
   "cell_type": "markdown",
   "id": "6cf4e6a6",
   "metadata": {},
   "source": [
    "## Testing objectives\n",
    "\n",
    "- goals/objecteives of running tests which lead to different kinds of testing\n",
    "- for other testing types see: https://www.softwaretestinghelp.com/\n",
    "\n",
    "### Unit tests\n",
    "\n",
    "- confirm that software components work in isolation\n",
    "- Fowler's Test Pyramid seems to suggest unit testing creates the most value - https://martinfowler.com/articles/practical-test-pyramid.html\n",
    "- unit can be a function, method, class or a whole module\n",
    "- if the basic/unit components are tested well, there'll be few surprises when they're integreted\n",
    "- common to use **coverage** tool to be sure all the lines of code are exercised as part of the unit test suite\n",
    "\n",
    "### Integration tests\n",
    "\n",
    "- confirm software components work when integrated\n",
    "- also called system tests, functional tests, acceptance tests among others\n",
    "- when itegration test fails, it often means an interface wasn't defined properly\n",
    "- perhpas unit tests didn't include some edge cases"
   ]
  },
  {
   "cell_type": "markdown",
   "id": "a77f54be",
   "metadata": {},
   "source": [
    "## Testing patterns\n",
    "\n",
    "- there are many software design patterns\n",
    "- testing is simple and essentially uses the same pattern for all software design patterns\n",
    "\n",
    "```\n",
    "GIVEN some precondition(s) for a scenario\n",
    "WHEN we exercise some method of a class \n",
    "THEN some sate change(s) or side effect will occur that we can confirm\n",
    "````\n",
    "\n",
    "- use the three-part pattern to disentangle the **setup, execution, and expected results**\n",
    "- e.g, testing if the water is hot enough for a cup of tea\n",
    "    1. GIVEN. a kettle of water on the stove\n",
    "    2. AND the burner is off\n",
    "    3. WHEN we flip the lid on the kettle\n",
    "    4. THEN we see steam escaping"
   ]
  },
  {
   "cell_type": "code",
   "execution_count": null,
   "id": "915dd928",
   "metadata": {},
   "outputs": [],
   "source": [
    "def average(data: list[Optional[int]]) -> float:\n",
    "    \"\"\"\n",
    "    GIVEN a list, data = [1, 2, None, 3, 4]\n",
    "    WHEN we compute m = average(data)\n",
    "    THEN the result, m is 2.5\n",
    "    \"\"\"\n",
    "    pass\n"
   ]
  },
  {
   "cell_type": "markdown",
   "id": "f89481e6",
   "metadata": {},
   "source": [
    "### Test cases\n",
    "\n",
    "- how many test cases to write and what data shoud be picked for testing can be challenging\n",
    "- some techniques that can be used to design test cases are **equivalence partitioning** and **boundary value analysis**\n",
    "- see this article for details: https://www.softwaretestinghelp.com/what-is-boundary-value-analysis-and-equivalence-partitioning/\n",
    "- let's say the input text boxes should only accept the value between 1-1000 inclusively\n",
    "- testing all possible values from 1-1000 is not plausible and in many cases not feasible\n",
    "    - also don't gain anything valuable with exhaustive testing\n",
    "\n",
    "#### Equivalence partioning\n",
    "\n",
    "1. test one value from a valid range\n",
    "2. test one value from an invalid range smaller than 1\n",
    "3. test one value from an invalid range larger than 1000\n",
    "\n",
    "#### Boundary value analysis\n",
    "\n",
    "1. test the boundary values 1 and 1000\n",
    "2. test data just below the extreme values: 0 and 999\n",
    "3. test data just above the extreme values: 2 and 1001"
   ]
  },
  {
   "cell_type": "markdown",
   "id": "49249f9f",
   "metadata": {},
   "source": [
    "## Unit testing with unittest\n",
    "\n",
    "- Python provides built-in unittest library\n",
    "- provides common object-oriented interface for unit tests\n",
    "- import unittest\n",
    "- create a subclass inheriting from TestCase\n",
    "- ever test case method must sart with prefix **test** \n",
    "- see `src/ch_04/test_demo.py`\n",
    "```\n",
    "python test_demo.py\n",
    "pytest\n",
    "python -m pytest\n",
    "```"
   ]
  }
 ],
 "metadata": {
  "kernelspec": {
   "display_name": "Python 3 (ipykernel)",
   "language": "python",
   "name": "python3"
  },
  "language_info": {
   "codemirror_mode": {
    "name": "ipython",
    "version": 3
   },
   "file_extension": ".py",
   "mimetype": "text/x-python",
   "name": "python",
   "nbconvert_exporter": "python",
   "pygments_lexer": "ipython3",
   "version": "3.10.8"
  }
 },
 "nbformat": 4,
 "nbformat_minor": 5
}
