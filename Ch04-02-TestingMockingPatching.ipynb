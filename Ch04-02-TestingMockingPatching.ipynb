{
 "cells": [
  {
   "cell_type": "markdown",
   "id": "274bb72f",
   "metadata": {},
   "source": [
    "# Mock\n",
    "\n",
    "### Topics\n",
    "\n",
    "- What is Mock?\n",
    "- use Mock to imitate objects in your tests\n",
    "- check usage data to understand how you use your objects\n",
    "- customize your mock objects' return values and side effects\n",
    "- patch() objects through out your codebase\n",
    "- common mock problems and avoiding the same\n",
    "\n",
    "## Imitating objects using Mocks\n",
    "\n",
    "- based on this great resource: https://realpython.com/python-mock-library/\n",
    "- isolated problems are easier to diagnose and solve\n",
    "- if a test fails, diagnosing/debugging many interrelated components can be very difficult\n",
    "    - e.g., why the engine of a gasoline car not firing\n",
    "- we often want to isolate items and testing environments by providing simiplified imitations (facking real objects)\n",
    "- two reasons to replace actual code/API with imitation or **mock/fake** objects\n",
    "    1. isolate a unit under test - create collaborating classes and function so we can test one unknown component\n",
    "    2. test code that requires an object that is either expensive or risky to use; things like shared databases, filesystems, cloud infrastructures can be be very expensive to setup and tear down for testing\n",
    "    \n",
    "- unittest.mock module provides Mock base class for mocking objects\n",
    "- you can pass mock object as arguments to functions\n",
    "- assign/patch other objects\n",
    "- when substituting an object in your code, the Mock must look like the real object it is replacing\n",
    "    - e.g., if you're mocking `json` library and your program calls `dumps()`, then the mock object must also contain `dumps()` \n",
    "    \n",
    "- Mock must simulate any object that it replaces\n",
    "    - Mock creates attributes/members when you access them!\n",
    "- Mock methods can take whaterver arguments you provide but always return Mock object"
   ]
  },
  {
   "cell_type": "code",
   "execution_count": 9,
   "id": "14634102",
   "metadata": {},
   "outputs": [],
   "source": [
    "from unittest.mock import Mock"
   ]
  },
  {
   "cell_type": "code",
   "execution_count": 10,
   "id": "9b3af993",
   "metadata": {},
   "outputs": [],
   "source": [
    "mock = Mock()"
   ]
  },
  {
   "cell_type": "code",
   "execution_count": 11,
   "id": "3365104e",
   "metadata": {},
   "outputs": [
    {
     "data": {
      "text/plain": [
       "<Mock id='140202251363488'>"
      ]
     },
     "execution_count": 11,
     "metadata": {},
     "output_type": "execute_result"
    }
   ],
   "source": [
    "mock"
   ]
  },
  {
   "cell_type": "code",
   "execution_count": 12,
   "id": "a6baf367",
   "metadata": {},
   "outputs": [
    {
     "data": {
      "text/plain": [
       "<Mock name='mock.some_attribute' id='140202251361472'>"
      ]
     },
     "execution_count": 12,
     "metadata": {},
     "output_type": "execute_result"
    }
   ],
   "source": [
    "mock.some_attribute"
   ]
  },
  {
   "cell_type": "code",
   "execution_count": 13,
   "id": "1810aea5",
   "metadata": {},
   "outputs": [
    {
     "data": {
      "text/plain": [
       "<Mock name='mock.do_something()' id='140202251365264'>"
      ]
     },
     "execution_count": 13,
     "metadata": {},
     "output_type": "execute_result"
    }
   ],
   "source": [
    "mock.do_something()\n",
    "# mock methods return Mock object"
   ]
  },
  {
   "cell_type": "code",
   "execution_count": 14,
   "id": "e4d20f7d",
   "metadata": {},
   "outputs": [],
   "source": [
    "# let's see Python std json library\n",
    "import json"
   ]
  },
  {
   "cell_type": "code",
   "execution_count": 15,
   "id": "67cead5e",
   "metadata": {},
   "outputs": [
    {
     "ename": "TypeError",
     "evalue": "dump() missing 2 required positional arguments: 'obj' and 'fp'",
     "output_type": "error",
     "traceback": [
      "\u001b[0;31m---------------------------------------------------------------------------\u001b[0m",
      "\u001b[0;31mTypeError\u001b[0m                                 Traceback (most recent call last)",
      "Cell \u001b[0;32mIn[15], line 2\u001b[0m\n\u001b[1;32m      1\u001b[0m \u001b[38;5;66;03m# dump requires two arguments\u001b[39;00m\n\u001b[0;32m----> 2\u001b[0m data \u001b[38;5;241m=\u001b[39m \u001b[43mjson\u001b[49m\u001b[38;5;241;43m.\u001b[39;49m\u001b[43mdump\u001b[49m\u001b[43m(\u001b[49m\u001b[43m)\u001b[49m\n",
      "\u001b[0;31mTypeError\u001b[0m: dump() missing 2 required positional arguments: 'obj' and 'fp'"
     ]
    }
   ],
   "source": [
    "# dump requires two arguments\n",
    "data = json.dump()"
   ]
  },
  {
   "cell_type": "code",
   "execution_count": 16,
   "id": "49053c23",
   "metadata": {},
   "outputs": [],
   "source": [
    "# patching json object\n",
    "json = Mock()"
   ]
  },
  {
   "cell_type": "code",
   "execution_count": 17,
   "id": "fb76c285",
   "metadata": {},
   "outputs": [
    {
     "data": {
      "text/plain": [
       "<Mock name='mock.dumps()' id='140202251301168'>"
      ]
     },
     "execution_count": 17,
     "metadata": {},
     "output_type": "execute_result"
    }
   ],
   "source": [
    "json.dumps()\n",
    "# takes any or no arguments; returns Mock object"
   ]
  },
  {
   "cell_type": "markdown",
   "id": "8cff93fd",
   "metadata": {},
   "source": [
    "### Assertions and Inspection\n",
    "\n",
    "- Mock instances store data on how you used them\n",
    "    - e.g., if you called a method, stores information on how you called the method, and so on\n",
    "- examples of how to use this information"
   ]
  },
  {
   "cell_type": "code",
   "execution_count": 18,
   "id": "0042480a",
   "metadata": {},
   "outputs": [],
   "source": [
    "from unittest.mock import Mock"
   ]
  },
  {
   "cell_type": "code",
   "execution_count": 19,
   "id": "c1c7e507",
   "metadata": {},
   "outputs": [],
   "source": [
    "# create a mock object\n",
    "json = Mock()"
   ]
  },
  {
   "cell_type": "code",
   "execution_count": 20,
   "id": "44edb239",
   "metadata": {},
   "outputs": [
    {
     "data": {
      "text/plain": [
       "<Mock name='mock.loads()' id='140202253942992'>"
      ]
     },
     "execution_count": 20,
     "metadata": {},
     "output_type": "execute_result"
    }
   ],
   "source": [
    "json.loads('{\"key\": \"value\"}')"
   ]
  },
  {
   "cell_type": "code",
   "execution_count": 21,
   "id": "3a216d06",
   "metadata": {},
   "outputs": [],
   "source": [
    "# we know that we called loads() \n",
    "# so we can make assertions to test that expectation\n",
    "json.loads.assert_called()"
   ]
  },
  {
   "cell_type": "code",
   "execution_count": 22,
   "id": "93598992",
   "metadata": {},
   "outputs": [],
   "source": [
    "json.loads.assert_called_once()"
   ]
  },
  {
   "cell_type": "code",
   "execution_count": 23,
   "id": "e942c231",
   "metadata": {},
   "outputs": [],
   "source": [
    "json.loads.assert_called_with('{\"key\": \"value\"}')"
   ]
  },
  {
   "cell_type": "code",
   "execution_count": 24,
   "id": "0101ad5c",
   "metadata": {},
   "outputs": [
    {
     "ename": "AssertionError",
     "evalue": "expected call not found.\nExpected: loads('{\"key1\": \"value1\"}')\nActual: loads('{\"key\": \"value\"}')",
     "output_type": "error",
     "traceback": [
      "\u001b[0;31m---------------------------------------------------------------------------\u001b[0m",
      "\u001b[0;31mAssertionError\u001b[0m                            Traceback (most recent call last)",
      "Cell \u001b[0;32mIn[24], line 2\u001b[0m\n\u001b[1;32m      1\u001b[0m \u001b[38;5;66;03m# this should raise an exception - AssertionError\u001b[39;00m\n\u001b[0;32m----> 2\u001b[0m \u001b[43mjson\u001b[49m\u001b[38;5;241;43m.\u001b[39;49m\u001b[43mloads\u001b[49m\u001b[38;5;241;43m.\u001b[39;49m\u001b[43massert_called_with\u001b[49m\u001b[43m(\u001b[49m\u001b[38;5;124;43m'\u001b[39;49m\u001b[38;5;124;43m{\u001b[39;49m\u001b[38;5;124;43m\"\u001b[39;49m\u001b[38;5;124;43mkey1\u001b[39;49m\u001b[38;5;124;43m\"\u001b[39;49m\u001b[38;5;124;43m: \u001b[39;49m\u001b[38;5;124;43m\"\u001b[39;49m\u001b[38;5;124;43mvalue1\u001b[39;49m\u001b[38;5;124;43m\"\u001b[39;49m\u001b[38;5;124;43m}\u001b[39;49m\u001b[38;5;124;43m'\u001b[39;49m\u001b[43m)\u001b[49m\n",
      "File \u001b[0;32m/opt/anaconda3/envs/py/lib/python3.10/unittest/mock.py:919\u001b[0m, in \u001b[0;36mNonCallableMock.assert_called_with\u001b[0;34m(self, *args, **kwargs)\u001b[0m\n\u001b[1;32m    917\u001b[0m \u001b[38;5;28;01mif\u001b[39;00m actual \u001b[38;5;241m!=\u001b[39m expected:\n\u001b[1;32m    918\u001b[0m     cause \u001b[38;5;241m=\u001b[39m expected \u001b[38;5;28;01mif\u001b[39;00m \u001b[38;5;28misinstance\u001b[39m(expected, \u001b[38;5;167;01mException\u001b[39;00m) \u001b[38;5;28;01melse\u001b[39;00m \u001b[38;5;28;01mNone\u001b[39;00m\n\u001b[0;32m--> 919\u001b[0m     \u001b[38;5;28;01mraise\u001b[39;00m \u001b[38;5;167;01mAssertionError\u001b[39;00m(_error_message()) \u001b[38;5;28;01mfrom\u001b[39;00m \u001b[38;5;21;01mcause\u001b[39;00m\n",
      "\u001b[0;31mAssertionError\u001b[0m: expected call not found.\nExpected: loads('{\"key1\": \"value1\"}')\nActual: loads('{\"key\": \"value\"}')"
     ]
    }
   ],
   "source": [
    "# this should raise an exception - AssertionError\n",
    "json.loads.assert_called_with('{\"key1\": \"value1\"}')"
   ]
  },
  {
   "cell_type": "code",
   "execution_count": 25,
   "id": "5daf126b",
   "metadata": {},
   "outputs": [],
   "source": [
    "json.loads.assert_called_once_with('{\"key\": \"value\"}')"
   ]
  },
  {
   "cell_type": "code",
   "execution_count": 26,
   "id": "a9ba1931",
   "metadata": {},
   "outputs": [
    {
     "data": {
      "text/plain": [
       "<Mock name='mock.loads()' id='140202253942992'>"
      ]
     },
     "execution_count": 26,
     "metadata": {},
     "output_type": "execute_result"
    }
   ],
   "source": [
    "json.loads('{\"key\": \"value\"}')"
   ]
  },
  {
   "cell_type": "code",
   "execution_count": 27,
   "id": "15f94224",
   "metadata": {},
   "outputs": [
    {
     "ename": "AssertionError",
     "evalue": "Expected 'loads' to have been called once. Called 2 times.\nCalls: [call('{\"key\": \"value\"}'), call('{\"key\": \"value\"}')].",
     "output_type": "error",
     "traceback": [
      "\u001b[0;31m---------------------------------------------------------------------------\u001b[0m",
      "\u001b[0;31mAssertionError\u001b[0m                            Traceback (most recent call last)",
      "Cell \u001b[0;32mIn[27], line 1\u001b[0m\n\u001b[0;32m----> 1\u001b[0m \u001b[43mjson\u001b[49m\u001b[38;5;241;43m.\u001b[39;49m\u001b[43mloads\u001b[49m\u001b[38;5;241;43m.\u001b[39;49m\u001b[43massert_called_once\u001b[49m\u001b[43m(\u001b[49m\u001b[43m)\u001b[49m\n",
      "File \u001b[0;32m/opt/anaconda3/envs/py/lib/python3.10/unittest/mock.py:898\u001b[0m, in \u001b[0;36mNonCallableMock.assert_called_once\u001b[0;34m(self)\u001b[0m\n\u001b[1;32m    893\u001b[0m \u001b[38;5;28;01mif\u001b[39;00m \u001b[38;5;129;01mnot\u001b[39;00m \u001b[38;5;28mself\u001b[39m\u001b[38;5;241m.\u001b[39mcall_count \u001b[38;5;241m==\u001b[39m \u001b[38;5;241m1\u001b[39m:\n\u001b[1;32m    894\u001b[0m     msg \u001b[38;5;241m=\u001b[39m (\u001b[38;5;124m\"\u001b[39m\u001b[38;5;124mExpected \u001b[39m\u001b[38;5;124m'\u001b[39m\u001b[38;5;132;01m%s\u001b[39;00m\u001b[38;5;124m'\u001b[39m\u001b[38;5;124m to have been called once. Called \u001b[39m\u001b[38;5;132;01m%s\u001b[39;00m\u001b[38;5;124m times.\u001b[39m\u001b[38;5;132;01m%s\u001b[39;00m\u001b[38;5;124m\"\u001b[39m\n\u001b[1;32m    895\u001b[0m            \u001b[38;5;241m%\u001b[39m (\u001b[38;5;28mself\u001b[39m\u001b[38;5;241m.\u001b[39m_mock_name \u001b[38;5;129;01mor\u001b[39;00m \u001b[38;5;124m'\u001b[39m\u001b[38;5;124mmock\u001b[39m\u001b[38;5;124m'\u001b[39m,\n\u001b[1;32m    896\u001b[0m               \u001b[38;5;28mself\u001b[39m\u001b[38;5;241m.\u001b[39mcall_count,\n\u001b[1;32m    897\u001b[0m               \u001b[38;5;28mself\u001b[39m\u001b[38;5;241m.\u001b[39m_calls_repr()))\n\u001b[0;32m--> 898\u001b[0m     \u001b[38;5;28;01mraise\u001b[39;00m \u001b[38;5;167;01mAssertionError\u001b[39;00m(msg)\n",
      "\u001b[0;31mAssertionError\u001b[0m: Expected 'loads' to have been called once. Called 2 times.\nCalls: [call('{\"key\": \"value\"}'), call('{\"key\": \"value\"}')]."
     ]
    }
   ],
   "source": [
    "json.loads.assert_called_once()"
   ]
  },
  {
   "cell_type": "code",
   "execution_count": 28,
   "id": "584a2288",
   "metadata": {},
   "outputs": [
    {
     "ename": "AssertionError",
     "evalue": "Expected 'loads' to not have been called. Called 2 times.\nCalls: [call('{\"key\": \"value\"}'), call('{\"key\": \"value\"}')].",
     "output_type": "error",
     "traceback": [
      "\u001b[0;31m---------------------------------------------------------------------------\u001b[0m",
      "\u001b[0;31mAssertionError\u001b[0m                            Traceback (most recent call last)",
      "Cell \u001b[0;32mIn[28], line 1\u001b[0m\n\u001b[0;32m----> 1\u001b[0m \u001b[43mjson\u001b[49m\u001b[38;5;241;43m.\u001b[39;49m\u001b[43mloads\u001b[49m\u001b[38;5;241;43m.\u001b[39;49m\u001b[43massert_not_called\u001b[49m\u001b[43m(\u001b[49m\u001b[43m)\u001b[49m\n",
      "File \u001b[0;32m/opt/anaconda3/envs/py/lib/python3.10/unittest/mock.py:880\u001b[0m, in \u001b[0;36mNonCallableMock.assert_not_called\u001b[0;34m(self)\u001b[0m\n\u001b[1;32m    875\u001b[0m \u001b[38;5;28;01mif\u001b[39;00m \u001b[38;5;28mself\u001b[39m\u001b[38;5;241m.\u001b[39mcall_count \u001b[38;5;241m!=\u001b[39m \u001b[38;5;241m0\u001b[39m:\n\u001b[1;32m    876\u001b[0m     msg \u001b[38;5;241m=\u001b[39m (\u001b[38;5;124m\"\u001b[39m\u001b[38;5;124mExpected \u001b[39m\u001b[38;5;124m'\u001b[39m\u001b[38;5;132;01m%s\u001b[39;00m\u001b[38;5;124m'\u001b[39m\u001b[38;5;124m to not have been called. Called \u001b[39m\u001b[38;5;132;01m%s\u001b[39;00m\u001b[38;5;124m times.\u001b[39m\u001b[38;5;132;01m%s\u001b[39;00m\u001b[38;5;124m\"\u001b[39m\n\u001b[1;32m    877\u001b[0m            \u001b[38;5;241m%\u001b[39m (\u001b[38;5;28mself\u001b[39m\u001b[38;5;241m.\u001b[39m_mock_name \u001b[38;5;129;01mor\u001b[39;00m \u001b[38;5;124m'\u001b[39m\u001b[38;5;124mmock\u001b[39m\u001b[38;5;124m'\u001b[39m,\n\u001b[1;32m    878\u001b[0m               \u001b[38;5;28mself\u001b[39m\u001b[38;5;241m.\u001b[39mcall_count,\n\u001b[1;32m    879\u001b[0m               \u001b[38;5;28mself\u001b[39m\u001b[38;5;241m.\u001b[39m_calls_repr()))\n\u001b[0;32m--> 880\u001b[0m     \u001b[38;5;28;01mraise\u001b[39;00m \u001b[38;5;167;01mAssertionError\u001b[39;00m(msg)\n",
      "\u001b[0;31mAssertionError\u001b[0m: Expected 'loads' to not have been called. Called 2 times.\nCalls: [call('{\"key\": \"value\"}'), call('{\"key\": \"value\"}')]."
     ]
    }
   ],
   "source": [
    "json.loads.assert_not_called()"
   ]
  },
  {
   "cell_type": "markdown",
   "id": "9fe654ec",
   "metadata": {},
   "source": [
    "### Mock speical attributes\n",
    "\n",
    "- helps you understand how your application used an object"
   ]
  },
  {
   "cell_type": "code",
   "execution_count": 29,
   "id": "96b5cca9",
   "metadata": {},
   "outputs": [],
   "source": [
    "from unittest.mock import Mock"
   ]
  },
  {
   "cell_type": "code",
   "execution_count": 30,
   "id": "d9758100",
   "metadata": {},
   "outputs": [],
   "source": [
    "json = Mock()"
   ]
  },
  {
   "cell_type": "code",
   "execution_count": 31,
   "id": "00f1c1f2",
   "metadata": {},
   "outputs": [
    {
     "data": {
      "text/plain": [
       "<Mock name='mock.loads()' id='140202277001424'>"
      ]
     },
     "execution_count": 31,
     "metadata": {},
     "output_type": "execute_result"
    }
   ],
   "source": [
    "json.loads('{\"key\": \"value\"}')"
   ]
  },
  {
   "cell_type": "code",
   "execution_count": 32,
   "id": "261cfd30",
   "metadata": {},
   "outputs": [
    {
     "data": {
      "text/plain": [
       "<Mock name='mock.loads()' id='140202277001424'>"
      ]
     },
     "execution_count": 32,
     "metadata": {},
     "output_type": "execute_result"
    }
   ],
   "source": [
    "json.loads('{\"key1\": \"value1\"}')"
   ]
  },
  {
   "cell_type": "code",
   "execution_count": 33,
   "id": "9bc7ad44",
   "metadata": {},
   "outputs": [
    {
     "data": {
      "text/plain": [
       "2"
      ]
     },
     "execution_count": 33,
     "metadata": {},
     "output_type": "execute_result"
    }
   ],
   "source": [
    "# number of times you called loads\n",
    "json.loads.call_count"
   ]
  },
  {
   "cell_type": "code",
   "execution_count": 34,
   "id": "3683cb73",
   "metadata": {},
   "outputs": [
    {
     "data": {
      "text/plain": [
       "call('{\"key1\": \"value1\"}')"
      ]
     },
     "execution_count": 34,
     "metadata": {},
     "output_type": "execute_result"
    }
   ],
   "source": [
    "# the last loads call\n",
    "json.loads.call_args"
   ]
  },
  {
   "cell_type": "code",
   "execution_count": 35,
   "id": "2faa2ecc",
   "metadata": {},
   "outputs": [
    {
     "data": {
      "text/plain": [
       "[call.loads('{\"key\": \"value\"}'), call.loads('{\"key1\": \"value1\"}')]"
      ]
     },
     "execution_count": 35,
     "metadata": {},
     "output_type": "execute_result"
    }
   ],
   "source": [
    "# list of calls to json's methods (recursively)\n",
    "json.method_calls"
   ]
  },
  {
   "cell_type": "markdown",
   "id": "525ef3e6",
   "metadata": {},
   "source": [
    "### Managing a Mock's Return Value\n",
    "\n",
    "- mocks let you control your code's behavior during tests\n",
    "- one important aspect of the testing is to control object's behavior (methods) and their return values\n",
    "\n",
    "- e.g., write a function that determines whether today is a weekday\n",
    "- you can mock `datetime` and set the `.return_value` for `.today()` to a day that you choose"
   ]
  },
  {
   "cell_type": "code",
   "execution_count": 74,
   "id": "82f01654",
   "metadata": {},
   "outputs": [],
   "source": [
    "from datetime import datetime"
   ]
  },
  {
   "cell_type": "code",
   "execution_count": 75,
   "id": "d2e240cc",
   "metadata": {},
   "outputs": [
    {
     "data": {
      "text/plain": [
       "datetime.datetime(2023, 1, 5, 19, 43, 17, 17093)"
      ]
     },
     "execution_count": 75,
     "metadata": {},
     "output_type": "execute_result"
    }
   ],
   "source": [
    "datetime.today()"
   ]
  },
  {
   "cell_type": "code",
   "execution_count": 76,
   "id": "9d0f30f1",
   "metadata": {},
   "outputs": [],
   "source": [
    "def is_weekday():\n",
    "    today = datetime.today()\n",
    "    # Python's datetime library treats Monday as 0 and Sunday as 6\n",
    "    return 0 <= today.weekday() < 5\n"
   ]
  },
  {
   "cell_type": "code",
   "execution_count": 77,
   "id": "edff8ab3",
   "metadata": {},
   "outputs": [],
   "source": [
    "# Test if today is a weekday\n",
    "assert is_weekday()\n",
    "# if you run the test on weekend, you'll get an AssertionError"
   ]
  },
  {
   "cell_type": "code",
   "execution_count": 78,
   "id": "304e4854",
   "metadata": {},
   "outputs": [],
   "source": [
    "tuesday = datetime(year=2023, month=1, day=3)\n",
    "saturday = datetime(year=2023, month=1, day=7)"
   ]
  },
  {
   "cell_type": "code",
   "execution_count": 79,
   "id": "3ffca579",
   "metadata": {},
   "outputs": [],
   "source": [
    "# Mock datetime to control today's date\n",
    "datetime = Mock()"
   ]
  },
  {
   "cell_type": "code",
   "execution_count": 80,
   "id": "2c062a5d",
   "metadata": {},
   "outputs": [],
   "source": [
    "def is_weekday():\n",
    "    today = datetime.today()\n",
    "    # Python's datetime library treats Monday as 0 and Sunday as 6\n",
    "    return 0 <= today.weekday() < 5"
   ]
  },
  {
   "cell_type": "code",
   "execution_count": 81,
   "id": "031d86b3",
   "metadata": {},
   "outputs": [],
   "source": [
    "# Mock .today() to return Tuesday\n",
    "datetime.today.return_value = tuesday"
   ]
  },
  {
   "cell_type": "code",
   "execution_count": 82,
   "id": "7438fe07",
   "metadata": {},
   "outputs": [
    {
     "data": {
      "text/plain": [
       "datetime.datetime(2023, 1, 3, 0, 0)"
      ]
     },
     "execution_count": 82,
     "metadata": {},
     "output_type": "execute_result"
    }
   ],
   "source": [
    "datetime.today.return_value"
   ]
  },
  {
   "cell_type": "code",
   "execution_count": 83,
   "id": "b698eac3",
   "metadata": {},
   "outputs": [
    {
     "data": {
      "text/plain": [
       "3"
      ]
     },
     "execution_count": 83,
     "metadata": {},
     "output_type": "execute_result"
    }
   ],
   "source": [
    "datetime.today().day"
   ]
  },
  {
   "cell_type": "code",
   "execution_count": 84,
   "id": "e2d33122",
   "metadata": {},
   "outputs": [],
   "source": [
    "# Test tuesday is a weekday\n",
    "assert is_weekday()"
   ]
  },
  {
   "cell_type": "code",
   "execution_count": 85,
   "id": "fb294e14",
   "metadata": {},
   "outputs": [],
   "source": [
    "# Mock .today() to return Saturday\n",
    "datetime.today.return_value = saturday"
   ]
  },
  {
   "cell_type": "code",
   "execution_count": 86,
   "id": "4a77b27d",
   "metadata": {},
   "outputs": [
    {
     "ename": "AssertionError",
     "evalue": "",
     "output_type": "error",
     "traceback": [
      "\u001b[0;31m---------------------------------------------------------------------------\u001b[0m",
      "\u001b[0;31mAssertionError\u001b[0m                            Traceback (most recent call last)",
      "Cell \u001b[0;32mIn[86], line 2\u001b[0m\n\u001b[1;32m      1\u001b[0m \u001b[38;5;66;03m# Test Saturday is not a weekday\u001b[39;00m\n\u001b[0;32m----> 2\u001b[0m \u001b[38;5;28;01massert\u001b[39;00m is_weekday()\n",
      "\u001b[0;31mAssertionError\u001b[0m: "
     ]
    }
   ],
   "source": [
    "# Test Saturday is not a weekday\n",
    "assert is_weekday()"
   ]
  },
  {
   "cell_type": "markdown",
   "id": "ca701fa9",
   "metadata": {},
   "source": [
    "### Managing Mock's side effects\n",
    "\n",
    "- you can control code's behavior by specifing a mocked function's side effects (https://docs.python.org/3/library/unittest.mock.html#unittest.mock.Mock.side_effect)\n",
    "- side effect defines what happens when you call the mocked function\n",
    "- you can use side effect to mock the return values, e.g.\n",
    "- see `ch_04_02/mock_demo.py` file for a full demo"
   ]
  },
  {
   "cell_type": "code",
   "execution_count": 49,
   "id": "d9ceb7f4",
   "metadata": {},
   "outputs": [],
   "source": [
    "mock = Mock()"
   ]
  },
  {
   "cell_type": "code",
   "execution_count": 50,
   "id": "4328806e",
   "metadata": {},
   "outputs": [],
   "source": [
    "# using side_effect to raise an exception\n",
    "mock.side_effect = Exception('Boom')"
   ]
  },
  {
   "cell_type": "code",
   "execution_count": 51,
   "id": "3888646c",
   "metadata": {},
   "outputs": [
    {
     "ename": "Exception",
     "evalue": "Boom",
     "output_type": "error",
     "traceback": [
      "\u001b[0;31m---------------------------------------------------------------------------\u001b[0m",
      "\u001b[0;31mException\u001b[0m                                 Traceback (most recent call last)",
      "Cell \u001b[0;32mIn[51], line 1\u001b[0m\n\u001b[0;32m----> 1\u001b[0m \u001b[43mmock\u001b[49m\u001b[43m(\u001b[49m\u001b[43m)\u001b[49m\n",
      "File \u001b[0;32m/opt/anaconda3/envs/py/lib/python3.10/unittest/mock.py:1104\u001b[0m, in \u001b[0;36mCallableMixin.__call__\u001b[0;34m(self, *args, **kwargs)\u001b[0m\n\u001b[1;32m   1102\u001b[0m \u001b[38;5;28mself\u001b[39m\u001b[38;5;241m.\u001b[39m_mock_check_sig(\u001b[38;5;241m*\u001b[39margs, \u001b[38;5;241m*\u001b[39m\u001b[38;5;241m*\u001b[39mkwargs)\n\u001b[1;32m   1103\u001b[0m \u001b[38;5;28mself\u001b[39m\u001b[38;5;241m.\u001b[39m_increment_mock_call(\u001b[38;5;241m*\u001b[39margs, \u001b[38;5;241m*\u001b[39m\u001b[38;5;241m*\u001b[39mkwargs)\n\u001b[0;32m-> 1104\u001b[0m \u001b[38;5;28;01mreturn\u001b[39;00m \u001b[38;5;28;43mself\u001b[39;49m\u001b[38;5;241;43m.\u001b[39;49m\u001b[43m_mock_call\u001b[49m\u001b[43m(\u001b[49m\u001b[38;5;241;43m*\u001b[39;49m\u001b[43margs\u001b[49m\u001b[43m,\u001b[49m\u001b[43m \u001b[49m\u001b[38;5;241;43m*\u001b[39;49m\u001b[38;5;241;43m*\u001b[39;49m\u001b[43mkwargs\u001b[49m\u001b[43m)\u001b[49m\n",
      "File \u001b[0;32m/opt/anaconda3/envs/py/lib/python3.10/unittest/mock.py:1108\u001b[0m, in \u001b[0;36mCallableMixin._mock_call\u001b[0;34m(self, *args, **kwargs)\u001b[0m\n\u001b[1;32m   1107\u001b[0m \u001b[38;5;28;01mdef\u001b[39;00m \u001b[38;5;21m_mock_call\u001b[39m(\u001b[38;5;28mself\u001b[39m, \u001b[38;5;241m/\u001b[39m, \u001b[38;5;241m*\u001b[39margs, \u001b[38;5;241m*\u001b[39m\u001b[38;5;241m*\u001b[39mkwargs):\n\u001b[0;32m-> 1108\u001b[0m     \u001b[38;5;28;01mreturn\u001b[39;00m \u001b[38;5;28;43mself\u001b[39;49m\u001b[38;5;241;43m.\u001b[39;49m\u001b[43m_execute_mock_call\u001b[49m\u001b[43m(\u001b[49m\u001b[38;5;241;43m*\u001b[39;49m\u001b[43margs\u001b[49m\u001b[43m,\u001b[49m\u001b[43m \u001b[49m\u001b[38;5;241;43m*\u001b[39;49m\u001b[38;5;241;43m*\u001b[39;49m\u001b[43mkwargs\u001b[49m\u001b[43m)\u001b[49m\n",
      "File \u001b[0;32m/opt/anaconda3/envs/py/lib/python3.10/unittest/mock.py:1163\u001b[0m, in \u001b[0;36mCallableMixin._execute_mock_call\u001b[0;34m(self, *args, **kwargs)\u001b[0m\n\u001b[1;32m   1161\u001b[0m \u001b[38;5;28;01mif\u001b[39;00m effect \u001b[38;5;129;01mis\u001b[39;00m \u001b[38;5;129;01mnot\u001b[39;00m \u001b[38;5;28;01mNone\u001b[39;00m:\n\u001b[1;32m   1162\u001b[0m     \u001b[38;5;28;01mif\u001b[39;00m _is_exception(effect):\n\u001b[0;32m-> 1163\u001b[0m         \u001b[38;5;28;01mraise\u001b[39;00m effect\n\u001b[1;32m   1164\u001b[0m     \u001b[38;5;28;01melif\u001b[39;00m \u001b[38;5;129;01mnot\u001b[39;00m _callable(effect):\n\u001b[1;32m   1165\u001b[0m         result \u001b[38;5;241m=\u001b[39m \u001b[38;5;28mnext\u001b[39m(effect)\n",
      "\u001b[0;31mException\u001b[0m: Boom"
     ]
    }
   ],
   "source": [
    "mock()"
   ]
  },
  {
   "cell_type": "code",
   "execution_count": 52,
   "id": "4d482e4b",
   "metadata": {},
   "outputs": [],
   "source": [
    "# using side_effect to return a sequence of values\n",
    "mock = Mock()\n",
    "mock.side_effect = [3, 2, 1]"
   ]
  },
  {
   "cell_type": "code",
   "execution_count": 53,
   "id": "deadc206",
   "metadata": {},
   "outputs": [
    {
     "data": {
      "text/plain": [
       "(3, 2, 1)"
      ]
     },
     "execution_count": 53,
     "metadata": {},
     "output_type": "execute_result"
    }
   ],
   "source": [
    "# call mock three times to return each side effect\n",
    "mock(), mock(), mock()"
   ]
  },
  {
   "cell_type": "markdown",
   "id": "15ed8c93",
   "metadata": {},
   "source": [
    "### Configuring Your Mock\n",
    "\n",
    "- can configure Mock to setup some the object's behaviors and attributes\n",
    "- two ways to configure Mock:\n",
    "    - when you create it or when you use `.configure_mock()` method"
   ]
  },
  {
   "cell_type": "code",
   "execution_count": 54,
   "id": "8af63015",
   "metadata": {},
   "outputs": [],
   "source": [
    "mock = Mock(side_effect=Exception)"
   ]
  },
  {
   "cell_type": "code",
   "execution_count": 55,
   "id": "714be0fe",
   "metadata": {},
   "outputs": [
    {
     "ename": "Exception",
     "evalue": "",
     "output_type": "error",
     "traceback": [
      "\u001b[0;31m---------------------------------------------------------------------------\u001b[0m",
      "\u001b[0;31mException\u001b[0m                                 Traceback (most recent call last)",
      "Cell \u001b[0;32mIn[55], line 1\u001b[0m\n\u001b[0;32m----> 1\u001b[0m \u001b[43mmock\u001b[49m\u001b[43m(\u001b[49m\u001b[43m)\u001b[49m\n",
      "File \u001b[0;32m/opt/anaconda3/envs/py/lib/python3.10/unittest/mock.py:1104\u001b[0m, in \u001b[0;36mCallableMixin.__call__\u001b[0;34m(self, *args, **kwargs)\u001b[0m\n\u001b[1;32m   1102\u001b[0m \u001b[38;5;28mself\u001b[39m\u001b[38;5;241m.\u001b[39m_mock_check_sig(\u001b[38;5;241m*\u001b[39margs, \u001b[38;5;241m*\u001b[39m\u001b[38;5;241m*\u001b[39mkwargs)\n\u001b[1;32m   1103\u001b[0m \u001b[38;5;28mself\u001b[39m\u001b[38;5;241m.\u001b[39m_increment_mock_call(\u001b[38;5;241m*\u001b[39margs, \u001b[38;5;241m*\u001b[39m\u001b[38;5;241m*\u001b[39mkwargs)\n\u001b[0;32m-> 1104\u001b[0m \u001b[38;5;28;01mreturn\u001b[39;00m \u001b[38;5;28;43mself\u001b[39;49m\u001b[38;5;241;43m.\u001b[39;49m\u001b[43m_mock_call\u001b[49m\u001b[43m(\u001b[49m\u001b[38;5;241;43m*\u001b[39;49m\u001b[43margs\u001b[49m\u001b[43m,\u001b[49m\u001b[43m \u001b[49m\u001b[38;5;241;43m*\u001b[39;49m\u001b[38;5;241;43m*\u001b[39;49m\u001b[43mkwargs\u001b[49m\u001b[43m)\u001b[49m\n",
      "File \u001b[0;32m/opt/anaconda3/envs/py/lib/python3.10/unittest/mock.py:1108\u001b[0m, in \u001b[0;36mCallableMixin._mock_call\u001b[0;34m(self, *args, **kwargs)\u001b[0m\n\u001b[1;32m   1107\u001b[0m \u001b[38;5;28;01mdef\u001b[39;00m \u001b[38;5;21m_mock_call\u001b[39m(\u001b[38;5;28mself\u001b[39m, \u001b[38;5;241m/\u001b[39m, \u001b[38;5;241m*\u001b[39margs, \u001b[38;5;241m*\u001b[39m\u001b[38;5;241m*\u001b[39mkwargs):\n\u001b[0;32m-> 1108\u001b[0m     \u001b[38;5;28;01mreturn\u001b[39;00m \u001b[38;5;28;43mself\u001b[39;49m\u001b[38;5;241;43m.\u001b[39;49m\u001b[43m_execute_mock_call\u001b[49m\u001b[43m(\u001b[49m\u001b[38;5;241;43m*\u001b[39;49m\u001b[43margs\u001b[49m\u001b[43m,\u001b[49m\u001b[43m \u001b[49m\u001b[38;5;241;43m*\u001b[39;49m\u001b[38;5;241;43m*\u001b[39;49m\u001b[43mkwargs\u001b[49m\u001b[43m)\u001b[49m\n",
      "File \u001b[0;32m/opt/anaconda3/envs/py/lib/python3.10/unittest/mock.py:1163\u001b[0m, in \u001b[0;36mCallableMixin._execute_mock_call\u001b[0;34m(self, *args, **kwargs)\u001b[0m\n\u001b[1;32m   1161\u001b[0m \u001b[38;5;28;01mif\u001b[39;00m effect \u001b[38;5;129;01mis\u001b[39;00m \u001b[38;5;129;01mnot\u001b[39;00m \u001b[38;5;28;01mNone\u001b[39;00m:\n\u001b[1;32m   1162\u001b[0m     \u001b[38;5;28;01mif\u001b[39;00m _is_exception(effect):\n\u001b[0;32m-> 1163\u001b[0m         \u001b[38;5;28;01mraise\u001b[39;00m effect\n\u001b[1;32m   1164\u001b[0m     \u001b[38;5;28;01melif\u001b[39;00m \u001b[38;5;129;01mnot\u001b[39;00m _callable(effect):\n\u001b[1;32m   1165\u001b[0m         result \u001b[38;5;241m=\u001b[39m \u001b[38;5;28mnext\u001b[39m(effect)\n",
      "\u001b[0;31mException\u001b[0m: "
     ]
    }
   ],
   "source": [
    "mock()"
   ]
  },
  {
   "cell_type": "code",
   "execution_count": 56,
   "id": "a6650159",
   "metadata": {},
   "outputs": [],
   "source": [
    "mock = Mock(name='Mocking with Python')"
   ]
  },
  {
   "cell_type": "code",
   "execution_count": 57,
   "id": "8b32ae3a",
   "metadata": {},
   "outputs": [
    {
     "data": {
      "text/plain": [
       "<Mock name='Mocking with Python.name' id='140202276995904'>"
      ]
     },
     "execution_count": 57,
     "metadata": {},
     "output_type": "execute_result"
    }
   ],
   "source": [
    "mock.name"
   ]
  },
  {
   "cell_type": "code",
   "execution_count": 58,
   "id": "7d6e3ccb",
   "metadata": {},
   "outputs": [],
   "source": [
    "mock = Mock(return_value=True)"
   ]
  },
  {
   "cell_type": "code",
   "execution_count": 59,
   "id": "16f3502d",
   "metadata": {},
   "outputs": [
    {
     "data": {
      "text/plain": [
       "True"
      ]
     },
     "execution_count": 59,
     "metadata": {},
     "output_type": "execute_result"
    }
   ],
   "source": [
    "mock()"
   ]
  },
  {
   "cell_type": "code",
   "execution_count": 60,
   "id": "d4bb7935",
   "metadata": {},
   "outputs": [],
   "source": [
    "# using .configure_mock()\n",
    "mock = Mock()"
   ]
  },
  {
   "cell_type": "code",
   "execution_count": 61,
   "id": "42c630fd",
   "metadata": {},
   "outputs": [],
   "source": [
    "mock.configure_mock(return_value=True)"
   ]
  },
  {
   "cell_type": "code",
   "execution_count": 62,
   "id": "f1f62720",
   "metadata": {},
   "outputs": [
    {
     "data": {
      "text/plain": [
       "True"
      ]
     },
     "execution_count": 62,
     "metadata": {},
     "output_type": "execute_result"
    }
   ],
   "source": [
    "mock()"
   ]
  },
  {
   "cell_type": "code",
   "execution_count": 63,
   "id": "d3fe194a",
   "metadata": {},
   "outputs": [],
   "source": [
    "mock = Mock(return_value='fish')"
   ]
  },
  {
   "cell_type": "code",
   "execution_count": 64,
   "id": "012f281a",
   "metadata": {},
   "outputs": [
    {
     "data": {
      "text/plain": [
       "'fish'"
      ]
     },
     "execution_count": 64,
     "metadata": {},
     "output_type": "execute_result"
    }
   ],
   "source": [
    "mock()"
   ]
  },
  {
   "cell_type": "markdown",
   "id": "1caf64a8",
   "metadata": {},
   "source": [
    "## patching\n",
    "\n",
    "- patching makes it easier to Mock objects that are imported from different module\n",
    "- `unittest.mock` provides a powerful mechanism for mocking objects called `patch()`\n",
    "- `patch()` looks up an object in a given module and replaces that object with a Mock\n",
    "- usually, you use patch() as a decorator or a context manager to provide a scope in which you'll mock the target object\n",
    "\n",
    "### patch( ) as a Decorator\n",
    "- use patch() as a decorator to mock an object for the duration of your entire test function\n",
    "\n",
    "### patch( ) as a Context Manager\n",
    "- you only want to mock an object for a part of the test scopre\n",
    "- you're already using too many decorators or parameters which hurts your test readability\n",
    "\n",
    "- see demos: `ch04_02/patch_demo.py` and `ch04_02/patch_demo1.py`\n",
    "\n",
    "### patching and object's attributes\n",
    "\n",
    "- you can mock only one method of an object instead of the entire object\n",
    "- use `patch.object(class, 'class_method')`"
   ]
  },
  {
   "cell_type": "code",
   "execution_count": 95,
   "id": "c75eedb4",
   "metadata": {},
   "outputs": [],
   "source": [
    "import requests\n",
    "from requests.exceptions import Timeout\n",
    "from unittest.mock import patch\n",
    "\n",
    "@patch.object(requests, 'get') # (class, 'class_method')\n",
    "def test(mock_method):\n",
    "    url = 'http://localhost/calendar/api/holidays'\n",
    "    requests.get.return_value = '404 Not Found'\n",
    "    requests.get(url)\n",
    "    mock_method.assert_called_with(url)\n",
    "    mock_method.get.return_value\n",
    "    assert(requests.get() == '404 Not Found')"
   ]
  },
  {
   "cell_type": "code",
   "execution_count": 96,
   "id": "1380403d",
   "metadata": {},
   "outputs": [],
   "source": [
    "test()"
   ]
  },
  {
   "cell_type": "markdown",
   "id": "e92afbc4",
   "metadata": {},
   "source": [
    "### where to patch\n",
    "\n",
    "- knowing where to tell `patch()` to look for the object you want mocked is important\n",
    "- if you choose the wrong target location, the result of `patch()` could be something you didn't expect\n",
    "- let's say you want to patch\n",
    "- good rule of thumb is to patch() the object where it is looked up"
   ]
  },
  {
   "cell_type": "code",
   "execution_count": 110,
   "id": "492b773c",
   "metadata": {},
   "outputs": [],
   "source": [
    "# datetime module is imported\n",
    "import datetime\n",
    "from unittest.mock import patch"
   ]
  },
  {
   "cell_type": "code",
   "execution_count": 112,
   "id": "1f0e0526",
   "metadata": {},
   "outputs": [
    {
     "name": "stdout",
     "output_type": "stream",
     "text": [
      "<module 'datetime' from '/opt/anaconda3/envs/py/lib/python3.10/datetime.py'>\n",
      "<MagicMock name='datetime' id='140202278341216'>\n"
     ]
    }
   ],
   "source": [
    "with patch('datetime.datetime'):\n",
    "    # datetime class is patched MagicMock now\n",
    "    print(datetime)\n",
    "    print(datetime.datetime)"
   ]
  },
  {
   "cell_type": "code",
   "execution_count": 117,
   "id": "20ab414d",
   "metadata": {},
   "outputs": [],
   "source": [
    "# just the datetime class is imported\n",
    "from datetime import datetime"
   ]
  },
  {
   "cell_type": "code",
   "execution_count": 120,
   "id": "25e5ca66",
   "metadata": {},
   "outputs": [
    {
     "name": "stdout",
     "output_type": "stream",
     "text": [
      "<class 'datetime.datetime'>\n",
      "2023-01-05 20:37:26.930897\n"
     ]
    }
   ],
   "source": [
    "# the patch has no effect because there's \n",
    "# unmocked datetime class imported into the current scope\n",
    "with patch('datetime.datetime'):\n",
    "    print(datetime)\n",
    "    print(datetime.today())"
   ]
  },
  {
   "cell_type": "code",
   "execution_count": 121,
   "id": "4f8265d4",
   "metadata": {},
   "outputs": [
    {
     "name": "stdout",
     "output_type": "stream",
     "text": [
      "<MagicMock name='datetime' id='140202253954032'>\n"
     ]
    }
   ],
   "source": [
    "# if you need to patchdatetime class imported into the global namespace\n",
    "# you do the following\n",
    "with patch('__main__.datetime'):\n",
    "    print(datetime)"
   ]
  },
  {
   "cell_type": "markdown",
   "id": "580fd963",
   "metadata": {},
   "source": [
    "### common mocking problems\n",
    "\n",
    "### changes to object interfaces and misspellings\n",
    "\n",
    "- when interface of an object changes, any tests relying on a Mock of that object may become irrelevant\n",
    "- misspelling can break a test; recall that Mock creates its interface when you access its members\n",
    "    - you'll essentially create a new interface when you misspell a name\n",
    "\n",
    "### changes to external dependencies\n",
    "\n",
    "- when external dependency changes its interface, your Python objects will become invalid\n",
    "- your tests will pass but the actual production code will fail\n",
    "\n",
    "### avoiding common problems using specifications\n",
    "\n",
    "- use `spec` parameter providing the list of valid interface/method names of module/class you're mocking"
   ]
  },
  {
   "cell_type": "code",
   "execution_count": 122,
   "id": "a297dd85",
   "metadata": {},
   "outputs": [],
   "source": [
    "from unittest.mock import Mock"
   ]
  },
  {
   "cell_type": "code",
   "execution_count": 123,
   "id": "9179e323",
   "metadata": {},
   "outputs": [],
   "source": [
    "# provide a list of valid api names of the class you want to mock \n",
    "calendar = Mock(spec=['is_weekday', 'get_holidays'])"
   ]
  },
  {
   "cell_type": "code",
   "execution_count": 124,
   "id": "6c6234e9",
   "metadata": {},
   "outputs": [
    {
     "data": {
      "text/plain": [
       "<Mock name='mock.is_weekday()' id='140202277534256'>"
      ]
     },
     "execution_count": 124,
     "metadata": {},
     "output_type": "execute_result"
    }
   ],
   "source": [
    "calendar.is_weekday()"
   ]
  },
  {
   "cell_type": "code",
   "execution_count": 126,
   "id": "48a1fdf6",
   "metadata": {},
   "outputs": [
    {
     "ename": "AttributeError",
     "evalue": "Mock object has no attribute 'create_event'",
     "output_type": "error",
     "traceback": [
      "\u001b[0;31m---------------------------------------------------------------------------\u001b[0m",
      "\u001b[0;31mAttributeError\u001b[0m                            Traceback (most recent call last)",
      "Cell \u001b[0;32mIn[126], line 2\u001b[0m\n\u001b[1;32m      1\u001b[0m \u001b[38;5;66;03m# Mock raises AttributeError\u001b[39;00m\n\u001b[0;32m----> 2\u001b[0m \u001b[43mcalendar\u001b[49m\u001b[38;5;241;43m.\u001b[39;49m\u001b[43mcreate_event\u001b[49m()\n",
      "File \u001b[0;32m/opt/anaconda3/envs/py/lib/python3.10/unittest/mock.py:634\u001b[0m, in \u001b[0;36mNonCallableMock.__getattr__\u001b[0;34m(self, name)\u001b[0m\n\u001b[1;32m    632\u001b[0m \u001b[38;5;28;01melif\u001b[39;00m \u001b[38;5;28mself\u001b[39m\u001b[38;5;241m.\u001b[39m_mock_methods \u001b[38;5;129;01mis\u001b[39;00m \u001b[38;5;129;01mnot\u001b[39;00m \u001b[38;5;28;01mNone\u001b[39;00m:\n\u001b[1;32m    633\u001b[0m     \u001b[38;5;28;01mif\u001b[39;00m name \u001b[38;5;129;01mnot\u001b[39;00m \u001b[38;5;129;01min\u001b[39;00m \u001b[38;5;28mself\u001b[39m\u001b[38;5;241m.\u001b[39m_mock_methods \u001b[38;5;129;01mor\u001b[39;00m name \u001b[38;5;129;01min\u001b[39;00m _all_magics:\n\u001b[0;32m--> 634\u001b[0m         \u001b[38;5;28;01mraise\u001b[39;00m \u001b[38;5;167;01mAttributeError\u001b[39;00m(\u001b[38;5;124m\"\u001b[39m\u001b[38;5;124mMock object has no attribute \u001b[39m\u001b[38;5;132;01m%r\u001b[39;00m\u001b[38;5;124m\"\u001b[39m \u001b[38;5;241m%\u001b[39m name)\n\u001b[1;32m    635\u001b[0m \u001b[38;5;28;01melif\u001b[39;00m _is_magic(name):\n\u001b[1;32m    636\u001b[0m     \u001b[38;5;28;01mraise\u001b[39;00m \u001b[38;5;167;01mAttributeError\u001b[39;00m(name)\n",
      "\u001b[0;31mAttributeError\u001b[0m: Mock object has no attribute 'create_event'"
     ]
    }
   ],
   "source": [
    "# Mock raises AttributeError\n",
    "calendar.create_event()"
   ]
  },
  {
   "cell_type": "code",
   "execution_count": 129,
   "id": "6d18a7b0",
   "metadata": {},
   "outputs": [],
   "source": [
    "# automatically create specification\n",
    "from unittest.mock import create_autospec\n",
    "\n",
    "from src.ch_04_02 import my_calendar"
   ]
  },
  {
   "cell_type": "code",
   "execution_count": 130,
   "id": "c9fbd61c",
   "metadata": {},
   "outputs": [],
   "source": [
    "calendar = create_autospec(my_calendar)"
   ]
  },
  {
   "cell_type": "code",
   "execution_count": 133,
   "id": "26dd27e0",
   "metadata": {},
   "outputs": [
    {
     "data": {
      "text/plain": [
       "<MagicMock name='mock.is_weekday()' id='140202278122688'>"
      ]
     },
     "execution_count": 133,
     "metadata": {},
     "output_type": "execute_result"
    }
   ],
   "source": [
    "calendar.is_weekday()"
   ]
  },
  {
   "cell_type": "code",
   "execution_count": 134,
   "id": "e53abe9d",
   "metadata": {},
   "outputs": [
    {
     "ename": "AttributeError",
     "evalue": "Mock object has no attribute 'create_event'",
     "output_type": "error",
     "traceback": [
      "\u001b[0;31m---------------------------------------------------------------------------\u001b[0m",
      "\u001b[0;31mAttributeError\u001b[0m                            Traceback (most recent call last)",
      "Cell \u001b[0;32mIn[134], line 1\u001b[0m\n\u001b[0;32m----> 1\u001b[0m \u001b[43mcalendar\u001b[49m\u001b[38;5;241;43m.\u001b[39;49m\u001b[43mcreate_event\u001b[49m()\n",
      "File \u001b[0;32m/opt/anaconda3/envs/py/lib/python3.10/unittest/mock.py:634\u001b[0m, in \u001b[0;36mNonCallableMock.__getattr__\u001b[0;34m(self, name)\u001b[0m\n\u001b[1;32m    632\u001b[0m \u001b[38;5;28;01melif\u001b[39;00m \u001b[38;5;28mself\u001b[39m\u001b[38;5;241m.\u001b[39m_mock_methods \u001b[38;5;129;01mis\u001b[39;00m \u001b[38;5;129;01mnot\u001b[39;00m \u001b[38;5;28;01mNone\u001b[39;00m:\n\u001b[1;32m    633\u001b[0m     \u001b[38;5;28;01mif\u001b[39;00m name \u001b[38;5;129;01mnot\u001b[39;00m \u001b[38;5;129;01min\u001b[39;00m \u001b[38;5;28mself\u001b[39m\u001b[38;5;241m.\u001b[39m_mock_methods \u001b[38;5;129;01mor\u001b[39;00m name \u001b[38;5;129;01min\u001b[39;00m _all_magics:\n\u001b[0;32m--> 634\u001b[0m         \u001b[38;5;28;01mraise\u001b[39;00m \u001b[38;5;167;01mAttributeError\u001b[39;00m(\u001b[38;5;124m\"\u001b[39m\u001b[38;5;124mMock object has no attribute \u001b[39m\u001b[38;5;132;01m%r\u001b[39;00m\u001b[38;5;124m\"\u001b[39m \u001b[38;5;241m%\u001b[39m name)\n\u001b[1;32m    635\u001b[0m \u001b[38;5;28;01melif\u001b[39;00m _is_magic(name):\n\u001b[1;32m    636\u001b[0m     \u001b[38;5;28;01mraise\u001b[39;00m \u001b[38;5;167;01mAttributeError\u001b[39;00m(name)\n",
      "\u001b[0;31mAttributeError\u001b[0m: Mock object has no attribute 'create_event'"
     ]
    }
   ],
   "source": [
    "calendar.create_event()"
   ]
  },
  {
   "cell_type": "code",
   "execution_count": 135,
   "id": "ee06d34d",
   "metadata": {},
   "outputs": [
    {
     "ename": "AttributeError",
     "evalue": "Mock object has no attribute 'create_event'",
     "output_type": "error",
     "traceback": [
      "\u001b[0;31m---------------------------------------------------------------------------\u001b[0m",
      "\u001b[0;31mAttributeError\u001b[0m                            Traceback (most recent call last)",
      "Cell \u001b[0;32mIn[135], line 4\u001b[0m\n\u001b[1;32m      2\u001b[0m \u001b[38;5;28;01mwith\u001b[39;00m patch(\u001b[38;5;124m'\u001b[39m\u001b[38;5;124m__main__.my_calendar\u001b[39m\u001b[38;5;124m'\u001b[39m, autospec\u001b[38;5;241m=\u001b[39m\u001b[38;5;28;01mTrue\u001b[39;00m) \u001b[38;5;28;01mas\u001b[39;00m calendar:\n\u001b[1;32m      3\u001b[0m     calendar\u001b[38;5;241m.\u001b[39mis_weekday()\n\u001b[0;32m----> 4\u001b[0m     \u001b[43mcalendar\u001b[49m\u001b[38;5;241;43m.\u001b[39;49m\u001b[43mcreate_event\u001b[49m()\n",
      "File \u001b[0;32m/opt/anaconda3/envs/py/lib/python3.10/unittest/mock.py:634\u001b[0m, in \u001b[0;36mNonCallableMock.__getattr__\u001b[0;34m(self, name)\u001b[0m\n\u001b[1;32m    632\u001b[0m \u001b[38;5;28;01melif\u001b[39;00m \u001b[38;5;28mself\u001b[39m\u001b[38;5;241m.\u001b[39m_mock_methods \u001b[38;5;129;01mis\u001b[39;00m \u001b[38;5;129;01mnot\u001b[39;00m \u001b[38;5;28;01mNone\u001b[39;00m:\n\u001b[1;32m    633\u001b[0m     \u001b[38;5;28;01mif\u001b[39;00m name \u001b[38;5;129;01mnot\u001b[39;00m \u001b[38;5;129;01min\u001b[39;00m \u001b[38;5;28mself\u001b[39m\u001b[38;5;241m.\u001b[39m_mock_methods \u001b[38;5;129;01mor\u001b[39;00m name \u001b[38;5;129;01min\u001b[39;00m _all_magics:\n\u001b[0;32m--> 634\u001b[0m         \u001b[38;5;28;01mraise\u001b[39;00m \u001b[38;5;167;01mAttributeError\u001b[39;00m(\u001b[38;5;124m\"\u001b[39m\u001b[38;5;124mMock object has no attribute \u001b[39m\u001b[38;5;132;01m%r\u001b[39;00m\u001b[38;5;124m\"\u001b[39m \u001b[38;5;241m%\u001b[39m name)\n\u001b[1;32m    635\u001b[0m \u001b[38;5;28;01melif\u001b[39;00m _is_magic(name):\n\u001b[1;32m    636\u001b[0m     \u001b[38;5;28;01mraise\u001b[39;00m \u001b[38;5;167;01mAttributeError\u001b[39;00m(name)\n",
      "\u001b[0;31mAttributeError\u001b[0m: Mock object has no attribute 'create_event'"
     ]
    }
   ],
   "source": [
    "# if you're using patch do the following\n",
    "with patch('__main__.my_calendar', autospec=True) as calendar:\n",
    "    calendar.is_weekday()\n",
    "    calendar.create_event()"
   ]
  },
  {
   "cell_type": "markdown",
   "id": "3c10148a",
   "metadata": {},
   "source": [
    "## Exercises\n",
    "\n",
    "- solve the following Kattis problems using OOD\n",
    "- must write adequate unittesting for the class API\n",
    "- must write integration testing using Mock to simulate input and output for complete program testing\n",
    "\n",
    "1. FizzBuzz - https://open.kattis.com/problems/fizzbuzz\n",
    "2. Mixed Fractions - https://open.kattis.com/problems/mixedfractions\n"
   ]
  },
  {
   "cell_type": "code",
   "execution_count": null,
   "id": "7650311f",
   "metadata": {},
   "outputs": [],
   "source": []
  }
 ],
 "metadata": {
  "kernelspec": {
   "display_name": "Python 3 (ipykernel)",
   "language": "python",
   "name": "python3"
  },
  "language_info": {
   "codemirror_mode": {
    "name": "ipython",
    "version": 3
   },
   "file_extension": ".py",
   "mimetype": "text/x-python",
   "name": "python",
   "nbconvert_exporter": "python",
   "pygments_lexer": "ipython3",
   "version": "3.10.8"
  }
 },
 "nbformat": 4,
 "nbformat_minor": 5
}
